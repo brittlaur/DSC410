{
 "cells": [
  {
   "cell_type": "code",
   "execution_count": 1,
   "id": "057ca034-39b2-4dd7-9a99-17b812c59f10",
   "metadata": {},
   "outputs": [
    {
     "data": {
      "text/html": [
       "<div>\n",
       "<style scoped>\n",
       "    .dataframe tbody tr th:only-of-type {\n",
       "        vertical-align: middle;\n",
       "    }\n",
       "\n",
       "    .dataframe tbody tr th {\n",
       "        vertical-align: top;\n",
       "    }\n",
       "\n",
       "    .dataframe thead th {\n",
       "        text-align: right;\n",
       "    }\n",
       "</style>\n",
       "<table border=\"1\" class=\"dataframe\">\n",
       "  <thead>\n",
       "    <tr style=\"text-align: right;\">\n",
       "      <th></th>\n",
       "      <th>Disease</th>\n",
       "      <th>Fever</th>\n",
       "      <th>Cough</th>\n",
       "      <th>Fatigue</th>\n",
       "      <th>Difficulty Breathing</th>\n",
       "      <th>Age</th>\n",
       "      <th>Gender</th>\n",
       "      <th>Blood Pressure</th>\n",
       "      <th>Cholesterol Level</th>\n",
       "      <th>Outcome Variable</th>\n",
       "    </tr>\n",
       "  </thead>\n",
       "  <tbody>\n",
       "    <tr>\n",
       "      <th>0</th>\n",
       "      <td>Influenza</td>\n",
       "      <td>Yes</td>\n",
       "      <td>No</td>\n",
       "      <td>Yes</td>\n",
       "      <td>Yes</td>\n",
       "      <td>19</td>\n",
       "      <td>Female</td>\n",
       "      <td>Low</td>\n",
       "      <td>Normal</td>\n",
       "      <td>Positive</td>\n",
       "    </tr>\n",
       "    <tr>\n",
       "      <th>1</th>\n",
       "      <td>Common Cold</td>\n",
       "      <td>No</td>\n",
       "      <td>Yes</td>\n",
       "      <td>Yes</td>\n",
       "      <td>No</td>\n",
       "      <td>25</td>\n",
       "      <td>Female</td>\n",
       "      <td>Normal</td>\n",
       "      <td>Normal</td>\n",
       "      <td>Negative</td>\n",
       "    </tr>\n",
       "    <tr>\n",
       "      <th>2</th>\n",
       "      <td>Eczema</td>\n",
       "      <td>No</td>\n",
       "      <td>Yes</td>\n",
       "      <td>Yes</td>\n",
       "      <td>No</td>\n",
       "      <td>25</td>\n",
       "      <td>Female</td>\n",
       "      <td>Normal</td>\n",
       "      <td>Normal</td>\n",
       "      <td>Negative</td>\n",
       "    </tr>\n",
       "    <tr>\n",
       "      <th>3</th>\n",
       "      <td>Asthma</td>\n",
       "      <td>Yes</td>\n",
       "      <td>Yes</td>\n",
       "      <td>No</td>\n",
       "      <td>Yes</td>\n",
       "      <td>25</td>\n",
       "      <td>Male</td>\n",
       "      <td>Normal</td>\n",
       "      <td>Normal</td>\n",
       "      <td>Positive</td>\n",
       "    </tr>\n",
       "    <tr>\n",
       "      <th>4</th>\n",
       "      <td>Asthma</td>\n",
       "      <td>Yes</td>\n",
       "      <td>Yes</td>\n",
       "      <td>No</td>\n",
       "      <td>Yes</td>\n",
       "      <td>25</td>\n",
       "      <td>Male</td>\n",
       "      <td>Normal</td>\n",
       "      <td>Normal</td>\n",
       "      <td>Positive</td>\n",
       "    </tr>\n",
       "    <tr>\n",
       "      <th>...</th>\n",
       "      <td>...</td>\n",
       "      <td>...</td>\n",
       "      <td>...</td>\n",
       "      <td>...</td>\n",
       "      <td>...</td>\n",
       "      <td>...</td>\n",
       "      <td>...</td>\n",
       "      <td>...</td>\n",
       "      <td>...</td>\n",
       "      <td>...</td>\n",
       "    </tr>\n",
       "    <tr>\n",
       "      <th>344</th>\n",
       "      <td>Stroke</td>\n",
       "      <td>Yes</td>\n",
       "      <td>No</td>\n",
       "      <td>Yes</td>\n",
       "      <td>No</td>\n",
       "      <td>80</td>\n",
       "      <td>Female</td>\n",
       "      <td>High</td>\n",
       "      <td>High</td>\n",
       "      <td>Positive</td>\n",
       "    </tr>\n",
       "    <tr>\n",
       "      <th>345</th>\n",
       "      <td>Stroke</td>\n",
       "      <td>Yes</td>\n",
       "      <td>No</td>\n",
       "      <td>Yes</td>\n",
       "      <td>No</td>\n",
       "      <td>85</td>\n",
       "      <td>Male</td>\n",
       "      <td>High</td>\n",
       "      <td>High</td>\n",
       "      <td>Positive</td>\n",
       "    </tr>\n",
       "    <tr>\n",
       "      <th>346</th>\n",
       "      <td>Stroke</td>\n",
       "      <td>Yes</td>\n",
       "      <td>No</td>\n",
       "      <td>Yes</td>\n",
       "      <td>No</td>\n",
       "      <td>85</td>\n",
       "      <td>Male</td>\n",
       "      <td>High</td>\n",
       "      <td>High</td>\n",
       "      <td>Positive</td>\n",
       "    </tr>\n",
       "    <tr>\n",
       "      <th>347</th>\n",
       "      <td>Stroke</td>\n",
       "      <td>Yes</td>\n",
       "      <td>No</td>\n",
       "      <td>Yes</td>\n",
       "      <td>No</td>\n",
       "      <td>90</td>\n",
       "      <td>Female</td>\n",
       "      <td>High</td>\n",
       "      <td>High</td>\n",
       "      <td>Positive</td>\n",
       "    </tr>\n",
       "    <tr>\n",
       "      <th>348</th>\n",
       "      <td>Stroke</td>\n",
       "      <td>Yes</td>\n",
       "      <td>No</td>\n",
       "      <td>Yes</td>\n",
       "      <td>No</td>\n",
       "      <td>90</td>\n",
       "      <td>Female</td>\n",
       "      <td>High</td>\n",
       "      <td>High</td>\n",
       "      <td>Positive</td>\n",
       "    </tr>\n",
       "  </tbody>\n",
       "</table>\n",
       "<p>349 rows × 10 columns</p>\n",
       "</div>"
      ],
      "text/plain": [
       "         Disease Fever Cough Fatigue Difficulty Breathing  Age  Gender  \\\n",
       "0      Influenza   Yes    No     Yes                  Yes   19  Female   \n",
       "1    Common Cold    No   Yes     Yes                   No   25  Female   \n",
       "2         Eczema    No   Yes     Yes                   No   25  Female   \n",
       "3         Asthma   Yes   Yes      No                  Yes   25    Male   \n",
       "4         Asthma   Yes   Yes      No                  Yes   25    Male   \n",
       "..           ...   ...   ...     ...                  ...  ...     ...   \n",
       "344       Stroke   Yes    No     Yes                   No   80  Female   \n",
       "345       Stroke   Yes    No     Yes                   No   85    Male   \n",
       "346       Stroke   Yes    No     Yes                   No   85    Male   \n",
       "347       Stroke   Yes    No     Yes                   No   90  Female   \n",
       "348       Stroke   Yes    No     Yes                   No   90  Female   \n",
       "\n",
       "    Blood Pressure Cholesterol Level Outcome Variable  \n",
       "0              Low            Normal         Positive  \n",
       "1           Normal            Normal         Negative  \n",
       "2           Normal            Normal         Negative  \n",
       "3           Normal            Normal         Positive  \n",
       "4           Normal            Normal         Positive  \n",
       "..             ...               ...              ...  \n",
       "344           High              High         Positive  \n",
       "345           High              High         Positive  \n",
       "346           High              High         Positive  \n",
       "347           High              High         Positive  \n",
       "348           High              High         Positive  \n",
       "\n",
       "[349 rows x 10 columns]"
      ]
     },
     "execution_count": 1,
     "metadata": {},
     "output_type": "execute_result"
    }
   ],
   "source": [
    "#Brittany Roberts\n",
    "#DSC410\n",
    "#Project\n",
    "\n",
    "import pandas as pd\n",
    "import numpy as np\n",
    "import matplotlib.pyplot as plt\n",
    "import seaborn as sns\n",
    "import os\n",
    "\n",
    "disease_data = pd.read_csv(\"C:\\\\Users\\\\Brittany\\\\OneDrive - Bellevue University\\\\Data Sources\\\\Disease_symptom_and_patient_profile_dataset.csv\")\n",
    "disease_data"
   ]
  },
  {
   "cell_type": "markdown",
   "id": "3e7b08dc-177e-45c2-b3be-511646150404",
   "metadata": {},
   "source": [
    "Univariate EDA for Categorical Data"
   ]
  },
  {
   "cell_type": "code",
   "execution_count": 2,
   "id": "2c54e698-737f-4a4c-8e7e-08b01ab19f67",
   "metadata": {},
   "outputs": [
    {
     "name": "stdout",
     "output_type": "stream",
     "text": [
      "     count  percent\n",
      "Yes    175     50.1\n",
      "No     174     49.9\n"
     ]
    },
    {
     "data": {
      "image/png": "[encoded data removed]",
      "text/plain": [
       "<Figure size 432x288 with 1 Axes>"
      ]
     },
     "metadata": {
      "needs_background": "light"
     },
     "output_type": "display_data"
    }
   ],
   "source": [
    "count = disease_data['Fever'].value_counts()\n",
    "percent = 100*disease_data['Fever'].value_counts(normalize=True)\n",
    "df=pd.DataFrame({'count':count, 'percent':percent.round(1)})\n",
    "print(df)\n",
    "count.plot(kind='bar', title = 'Fever');"
   ]
  },
  {
   "cell_type": "code",
   "execution_count": 3,
   "id": "8388a133-f09f-40b5-88d5-4977cfc08229",
   "metadata": {},
   "outputs": [
    {
     "name": "stdout",
     "output_type": "stream",
     "text": [
      "     count  percent\n",
      "No     182     52.1\n",
      "Yes    167     47.9\n"
     ]
    },
    {
     "data": {
      "image/png": "[encoded data removed]",
      "text/plain": [
       "<Figure size 432x288 with 1 Axes>"
      ]
     },
     "metadata": {
      "needs_background": "light"
     },
     "output_type": "display_data"
    }
   ],
   "source": [
    "count = disease_data['Cough'].value_counts()\n",
    "percent = 100*disease_data['Cough'].value_counts(normalize=True)\n",
    "df=pd.DataFrame({'count':count, 'percent':percent.round(1)})\n",
    "print(df)\n",
    "count.plot(kind='bar', title = 'Cough');"
   ]
  },
  {
   "cell_type": "code",
   "execution_count": 4,
   "id": "5d702c99-c815-4b9e-9395-4d4905122256",
   "metadata": {},
   "outputs": [
    {
     "name": "stdout",
     "output_type": "stream",
     "text": [
      "     count  percent\n",
      "Yes    242     69.3\n",
      "No     107     30.7\n"
     ]
    },
    {
     "data": {
      "image/png": "[encoded data removed]",
      "text/plain": [
       "<Figure size 432x288 with 1 Axes>"
      ]
     },
     "metadata": {
      "needs_background": "light"
     },
     "output_type": "display_data"
    }
   ],
   "source": [
    "count = disease_data['Fatigue'].value_counts()\n",
    "percent = 100*disease_data['Fatigue'].value_counts(normalize=True)\n",
    "df=pd.DataFrame({'count':count, 'percent':percent.round(1)})\n",
    "print(df)\n",
    "count.plot(kind='bar', title = 'Fatigue');"
   ]
  },
  {
   "cell_type": "code",
   "execution_count": 5,
   "id": "678080ad-2ae4-42fb-829b-b4cfb6bc3c49",
   "metadata": {},
   "outputs": [
    {
     "name": "stdout",
     "output_type": "stream",
     "text": [
      "     count  percent\n",
      "No     261     74.8\n",
      "Yes     88     25.2\n"
     ]
    },
    {
     "data": {
      "image/png": "[encoded data removed]",
      "text/plain": [
       "<Figure size 432x288 with 1 Axes>"
      ]
     },
     "metadata": {
      "needs_background": "light"
     },
     "output_type": "display_data"
    }
   ],
   "source": [
    "count = disease_data['Difficulty Breathing'].value_counts()\n",
    "percent = 100*disease_data['Difficulty Breathing'].value_counts(normalize=True)\n",
    "df=pd.DataFrame({'count':count, 'percent':percent.round(1)})\n",
    "print(df)\n",
    "count.plot(kind='bar', title = 'Difficulty Breathing');"
   ]
  },
  {
   "cell_type": "code",
   "execution_count": 6,
   "id": "dc105c35-1564-438b-88e6-950a93e6e96b",
   "metadata": {},
   "outputs": [
    {
     "name": "stdout",
     "output_type": "stream",
     "text": [
      "        count  percent\n",
      "Female    176     50.4\n",
      "Male      173     49.6\n"
     ]
    },
    {
     "data": {
      "image/png": "[encoded data removed]",
      "text/plain": [
       "<Figure size 432x288 with 1 Axes>"
      ]
     },
     "metadata": {
      "needs_background": "light"
     },
     "output_type": "display_data"
    }
   ],
   "source": [
    "count = disease_data['Gender'].value_counts()\n",
    "percent = 100*disease_data['Gender'].value_counts(normalize=True)\n",
    "df=pd.DataFrame({'count':count, 'percent':percent.round(1)})\n",
    "print(df)\n",
    "count.plot(kind='bar', title = 'Gender');"
   ]
  },
  {
   "cell_type": "code",
   "execution_count": 7,
   "id": "4e0fd00d-69f0-4fba-9570-6ddfccce7aef",
   "metadata": {},
   "outputs": [
    {
     "name": "stdout",
     "output_type": "stream",
     "text": [
      "        count  percent\n",
      "High      167     47.9\n",
      "Normal    164     47.0\n",
      "Low        18      5.2\n"
     ]
    },
    {
     "data": {
      "image/png": "[encoded data removed]",
      "text/plain": [
       "<Figure size 432x288 with 1 Axes>"
      ]
     },
     "metadata": {
      "needs_background": "light"
     },
     "output_type": "display_data"
    }
   ],
   "source": [
    "count = disease_data['Blood Pressure'].value_counts()\n",
    "percent = 100*disease_data['Blood Pressure'].value_counts(normalize=True)\n",
    "df=pd.DataFrame({'count':count, 'percent':percent.round(1)})\n",
    "print(df)\n",
    "count.plot(kind='bar', title = 'Blood Pressure');"
   ]
  },
  {
   "cell_type": "code",
   "execution_count": 8,
   "id": "b54a0e63-2713-4d9a-8090-c0d98290fdc5",
   "metadata": {},
   "outputs": [
    {
     "name": "stdout",
     "output_type": "stream",
     "text": [
      "        count  percent\n",
      "High      166     47.6\n",
      "Normal    149     42.7\n",
      "Low        34      9.7\n"
     ]
    },
    {
     "data": {
      "image/png": "[encoded data removed]",
      "text/plain": [
       "<Figure size 432x288 with 1 Axes>"
      ]
     },
     "metadata": {
      "needs_background": "light"
     },
     "output_type": "display_data"
    }
   ],
   "source": [
    "count = disease_data['Cholesterol Level'].value_counts()\n",
    "percent = 100*disease_data['Cholesterol Level'].value_counts(normalize=True)\n",
    "df=pd.DataFrame({'count':count, 'percent':percent.round(1)})\n",
    "print(df)\n",
    "count.plot(kind='bar', title = 'Cholesterol Level');"
   ]
  },
  {
   "cell_type": "code",
   "execution_count": 9,
   "id": "c8c2c970-1c9e-4b9d-93b9-2d7f3c77a29a",
   "metadata": {},
   "outputs": [
    {
     "name": "stdout",
     "output_type": "stream",
     "text": [
      "          count  percent\n",
      "Positive    186     53.3\n",
      "Negative    163     46.7\n"
     ]
    },
    {
     "data": {
      "image/png": "[encoded data removed]",
      "text/plain": [
       "<Figure size 432x288 with 1 Axes>"
      ]
     },
     "metadata": {
      "needs_background": "light"
     },
     "output_type": "display_data"
    }
   ],
   "source": [
    "count = disease_data['Outcome Variable'].value_counts()\n",
    "percent = 100*disease_data['Outcome Variable'].value_counts(normalize=True)\n",
    "df=pd.DataFrame({'count':count, 'percent':percent.round(1)})\n",
    "print(df)\n",
    "count.plot(kind='bar', title = 'Outcome Variable');"
   ]
  },
  {
   "cell_type": "markdown",
   "id": "6f72d0d6-10ca-4e4d-b709-a5bb957121f5",
   "metadata": {},
   "source": [
    "Univariate EDA for Numerical Data"
   ]
  },
  {
   "cell_type": "code",
   "execution_count": 10,
   "id": "247c36bf-1a1d-4be7-9347-d3c53f3969dc",
   "metadata": {},
   "outputs": [],
   "source": [
    "def desc_num_feature(feature_name, bins=30, edgecolor='k', **kwargs):\n",
    "    fig, ax = plt.subplots(figsize=(8,4))\n",
    "    disease_data[feature_name].hist(bins=bins, edgecolor=edgecolor, ax=ax, **kwargs)\n",
    "    ax.set_title(feature_name, size=15)\n",
    "    plt.figtext(1,0.15, str(disease_data[feature_name].describe().round(2).astype(str)), size=17)"
   ]
  },
  {
   "cell_type": "code",
   "execution_count": 11,
   "id": "6e0f7ace-972c-498b-8b3b-5fd399a32eb0",
   "metadata": {},
   "outputs": [
    {
     "data": {
      "image/png": "[encoded data removed]",
      "text/plain": [
       "<Figure size 576x288 with 1 Axes>"
      ]
     },
     "metadata": {
      "needs_background": "light"
     },
     "output_type": "display_data"
    }
   ],
   "source": [
    "desc_num_feature('Age')"
   ]
  },
  {
   "cell_type": "markdown",
   "id": "c278d310-7968-4002-8b25-3478cf6e1046",
   "metadata": {},
   "source": [
    "Model PreProcessing"
   ]
  },
  {
   "cell_type": "markdown",
   "id": "bdb87620-b36d-46e2-ac76-c2225674a1b0",
   "metadata": {},
   "source": [
    "Check for null values"
   ]
  },
  {
   "cell_type": "code",
   "execution_count": 12,
   "id": "bc6dfcc1-bed3-4a3c-a616-5c50a3771b5a",
   "metadata": {},
   "outputs": [
    {
     "name": "stdout",
     "output_type": "stream",
     "text": [
      "NaN Count for Fever: 0\n",
      "NaN Count for Cough: 0\n",
      "NaN Count for Fatigue: 0\n",
      "NaN Count for Difficulty Breathing: 0\n",
      "NaN Count for Gender: 0\n",
      "NaN Count for Blood Pressure: 0\n",
      "NaN Count for Cholesterol: 0\n"
     ]
    }
   ],
   "source": [
    "print('NaN Count for Fever:', disease_data['Fever'].isnull().sum())\n",
    "print('NaN Count for Cough:', disease_data['Cough'].isnull().sum())\n",
    "print('NaN Count for Fatigue:', disease_data['Fatigue'].isnull().sum())\n",
    "print('NaN Count for Difficulty Breathing:', disease_data['Difficulty Breathing'].isnull().sum())\n",
    "print('NaN Count for Gender:', disease_data['Gender'].isnull().sum())\n",
    "print('NaN Count for Blood Pressure:', disease_data['Blood Pressure'].isnull().sum())\n",
    "print('NaN Count for Cholesterol:', disease_data['Cholesterol Level'].isnull().sum())"
   ]
  },
  {
   "cell_type": "markdown",
   "id": "b41cbbb3-56a9-4c0e-ad5a-71ed615ef8ee",
   "metadata": {},
   "source": [
    "Count of each disease to help with training"
   ]
  },
  {
   "cell_type": "code",
   "execution_count": 13,
   "id": "879478c1-c9be-4a2e-8a46-ca481059ea41",
   "metadata": {},
   "outputs": [
    {
     "data": {
      "text/html": [
       "<div>\n",
       "<style scoped>\n",
       "    .dataframe tbody tr th:only-of-type {\n",
       "        vertical-align: middle;\n",
       "    }\n",
       "\n",
       "    .dataframe tbody tr th {\n",
       "        vertical-align: top;\n",
       "    }\n",
       "\n",
       "    .dataframe thead th {\n",
       "        text-align: right;\n",
       "    }\n",
       "</style>\n",
       "<table border=\"1\" class=\"dataframe\">\n",
       "  <thead>\n",
       "    <tr style=\"text-align: right;\">\n",
       "      <th></th>\n",
       "      <th>count</th>\n",
       "      <th>percent</th>\n",
       "    </tr>\n",
       "  </thead>\n",
       "  <tbody>\n",
       "    <tr>\n",
       "      <th>Asthma</th>\n",
       "      <td>23</td>\n",
       "      <td>6.6</td>\n",
       "    </tr>\n",
       "    <tr>\n",
       "      <th>Stroke</th>\n",
       "      <td>16</td>\n",
       "      <td>4.6</td>\n",
       "    </tr>\n",
       "    <tr>\n",
       "      <th>Osteoporosis</th>\n",
       "      <td>14</td>\n",
       "      <td>4.0</td>\n",
       "    </tr>\n",
       "    <tr>\n",
       "      <th>Hypertension</th>\n",
       "      <td>10</td>\n",
       "      <td>2.9</td>\n",
       "    </tr>\n",
       "    <tr>\n",
       "      <th>Diabetes</th>\n",
       "      <td>10</td>\n",
       "      <td>2.9</td>\n",
       "    </tr>\n",
       "    <tr>\n",
       "      <th>...</th>\n",
       "      <td>...</td>\n",
       "      <td>...</td>\n",
       "    </tr>\n",
       "    <tr>\n",
       "      <th>Autism Spectrum Disorder (ASD)</th>\n",
       "      <td>1</td>\n",
       "      <td>0.3</td>\n",
       "    </tr>\n",
       "    <tr>\n",
       "      <th>Hypoglycemia</th>\n",
       "      <td>1</td>\n",
       "      <td>0.3</td>\n",
       "    </tr>\n",
       "    <tr>\n",
       "      <th>Fibromyalgia</th>\n",
       "      <td>1</td>\n",
       "      <td>0.3</td>\n",
       "    </tr>\n",
       "    <tr>\n",
       "      <th>Eating Disorders (Anorexia,...</th>\n",
       "      <td>1</td>\n",
       "      <td>0.3</td>\n",
       "    </tr>\n",
       "    <tr>\n",
       "      <th>Williams Syndrome</th>\n",
       "      <td>1</td>\n",
       "      <td>0.3</td>\n",
       "    </tr>\n",
       "  </tbody>\n",
       "</table>\n",
       "<p>116 rows × 2 columns</p>\n",
       "</div>"
      ],
      "text/plain": [
       "                                count  percent\n",
       "Asthma                             23      6.6\n",
       "Stroke                             16      4.6\n",
       "Osteoporosis                       14      4.0\n",
       "Hypertension                       10      2.9\n",
       "Diabetes                           10      2.9\n",
       "...                               ...      ...\n",
       "Autism Spectrum Disorder (ASD)      1      0.3\n",
       "Hypoglycemia                        1      0.3\n",
       "Fibromyalgia                        1      0.3\n",
       "Eating Disorders (Anorexia,...      1      0.3\n",
       "Williams Syndrome                   1      0.3\n",
       "\n",
       "[116 rows x 2 columns]"
      ]
     },
     "execution_count": 13,
     "metadata": {},
     "output_type": "execute_result"
    }
   ],
   "source": [
    "count = disease_data['Disease'].value_counts()\n",
    "percent = 100*disease_data['Disease'].value_counts(normalize=True)\n",
    "df=pd.DataFrame({'count':count, 'percent':percent.round(1)})\n",
    "df"
   ]
  },
  {
   "cell_type": "code",
   "execution_count": 14,
   "id": "f78ab30e-a844-4736-8d60-1bee0a877401",
   "metadata": {},
   "outputs": [
    {
     "data": {
      "text/html": [
       "<div>\n",
       "<style scoped>\n",
       "    .dataframe tbody tr th:only-of-type {\n",
       "        vertical-align: middle;\n",
       "    }\n",
       "\n",
       "    .dataframe tbody tr th {\n",
       "        vertical-align: top;\n",
       "    }\n",
       "\n",
       "    .dataframe thead th {\n",
       "        text-align: right;\n",
       "    }\n",
       "</style>\n",
       "<table border=\"1\" class=\"dataframe\">\n",
       "  <thead>\n",
       "    <tr style=\"text-align: right;\">\n",
       "      <th></th>\n",
       "      <th>count</th>\n",
       "      <th>percent</th>\n",
       "    </tr>\n",
       "  </thead>\n",
       "  <tbody>\n",
       "    <tr>\n",
       "      <th>Asthma</th>\n",
       "      <td>23</td>\n",
       "      <td>6.6</td>\n",
       "    </tr>\n",
       "    <tr>\n",
       "      <th>Stroke</th>\n",
       "      <td>16</td>\n",
       "      <td>4.6</td>\n",
       "    </tr>\n",
       "    <tr>\n",
       "      <th>Osteoporosis</th>\n",
       "      <td>14</td>\n",
       "      <td>4.0</td>\n",
       "    </tr>\n",
       "    <tr>\n",
       "      <th>Hypertension</th>\n",
       "      <td>10</td>\n",
       "      <td>2.9</td>\n",
       "    </tr>\n",
       "    <tr>\n",
       "      <th>Diabetes</th>\n",
       "      <td>10</td>\n",
       "      <td>2.9</td>\n",
       "    </tr>\n",
       "    <tr>\n",
       "      <th>Migraine</th>\n",
       "      <td>10</td>\n",
       "      <td>2.9</td>\n",
       "    </tr>\n",
       "    <tr>\n",
       "      <th>Influenza</th>\n",
       "      <td>8</td>\n",
       "      <td>2.3</td>\n",
       "    </tr>\n",
       "    <tr>\n",
       "      <th>Pneumonia</th>\n",
       "      <td>8</td>\n",
       "      <td>2.3</td>\n",
       "    </tr>\n",
       "    <tr>\n",
       "      <th>Bronchitis</th>\n",
       "      <td>8</td>\n",
       "      <td>2.3</td>\n",
       "    </tr>\n",
       "    <tr>\n",
       "      <th>Hyperthyroidism</th>\n",
       "      <td>7</td>\n",
       "      <td>2.0</td>\n",
       "    </tr>\n",
       "  </tbody>\n",
       "</table>\n",
       "</div>"
      ],
      "text/plain": [
       "                 count  percent\n",
       "Asthma              23      6.6\n",
       "Stroke              16      4.6\n",
       "Osteoporosis        14      4.0\n",
       "Hypertension        10      2.9\n",
       "Diabetes            10      2.9\n",
       "Migraine            10      2.9\n",
       "Influenza            8      2.3\n",
       "Pneumonia            8      2.3\n",
       "Bronchitis           8      2.3\n",
       "Hyperthyroidism      7      2.0"
      ]
     },
     "execution_count": 14,
     "metadata": {},
     "output_type": "execute_result"
    }
   ],
   "source": [
    "df_10 = df.iloc[:10]\n",
    "df_10"
   ]
  },
  {
   "cell_type": "markdown",
   "id": "72542d36-0773-475d-b9cd-26a98030d42a",
   "metadata": {},
   "source": [
    "Ordinal encoding for Fever, Cough, Fatigue, Difficulty Breathing, Blood Pressure, and Cholesterol Level\n",
    "    Doing ordinal encoding for these factors because if the patient is positive or negative or fever, cough,\n",
    "    fatigue, and difficulty breathing then that is a symptom used to diagnose the patient.  With blood pressure\n",
    "    and cholesterol having more than two variables and the degree of each of those levels can change the diagnosis,\n",
    "    I want the values to be ranked accordingly."
   ]
  },
  {
   "cell_type": "code",
   "execution_count": 15,
   "id": "a3c9b7e7-3501-4fc3-89ad-74585530f723",
   "metadata": {},
   "outputs": [],
   "source": [
    "from sklearn.preprocessing import OrdinalEncoder\n",
    "\n",
    "oe = OrdinalEncoder()\n",
    "\n",
    "disease_data['encoded_Fever'] = oe.fit_transform(disease_data[['Fever']]).astype(int)\n",
    "#disease_data"
   ]
  },
  {
   "cell_type": "code",
   "execution_count": 16,
   "id": "7fd00cdf-013e-47d6-a922-563c6a5d3060",
   "metadata": {},
   "outputs": [],
   "source": [
    "disease_data['encoded_Cough'] = oe.fit_transform(disease_data[['Cough']]).astype(int)\n",
    "disease_data['encoded_Fatigue'] = oe.fit_transform(disease_data[['Fatigue']]).astype(int)\n",
    "disease_data['encoded_DB'] = oe.fit_transform(disease_data[['Difficulty Breathing']]).astype(int)\n",
    "disease_data['encoded_BP'] = oe.fit_transform(disease_data[['Blood Pressure']]).astype(int)\n",
    "disease_data['encoded_CL'] = oe.fit_transform(disease_data[['Cholesterol Level']]).astype(int)\n",
    "#disease_data"
   ]
  },
  {
   "cell_type": "markdown",
   "id": "20ada51a-597a-4450-81fe-e458e1eab6dc",
   "metadata": {},
   "source": [
    "Using label encoding on Gender as there is ranking in the labeling, just transforming them to work in model."
   ]
  },
  {
   "cell_type": "code",
   "execution_count": 17,
   "id": "e2c93fd6-2e6f-4a07-9077-fe2504cc568f",
   "metadata": {},
   "outputs": [
    {
     "name": "stderr",
     "output_type": "stream",
     "text": [
      "C:\\Users\\Brittany\\anaconda3\\lib\\site-packages\\sklearn\\preprocessing\\_label.py:115: DataConversionWarning: A column-vector y was passed when a 1d array was expected. Please change the shape of y to (n_samples, ), for example using ravel().\n",
      "  y = column_or_1d(y, warn=True)\n"
     ]
    }
   ],
   "source": [
    "from sklearn.preprocessing import LabelEncoder\n",
    "\n",
    "le = LabelEncoder()\n",
    "\n",
    "disease_data['encoded_Gender'] = le.fit_transform(disease_data[['Gender']])\n",
    "#disease_data"
   ]
  },
  {
   "cell_type": "markdown",
   "id": "fe0026a9-8f78-4d74-94a8-d2f08de62f14",
   "metadata": {},
   "source": [
    "Changing top 10 diseases diagnosed to numerical values to use them in model."
   ]
  },
  {
   "cell_type": "code",
   "execution_count": 18,
   "id": "0df23e05-1836-4a31-8966-3f757389f102",
   "metadata": {},
   "outputs": [],
   "source": [
    "disease_data = disease_data.replace({'Asthma':'1',\n",
    "                                     'Stroke':'2',\n",
    "                                     'Osteoporosis':'3',\n",
    "                                     'Hypertension':'4',\n",
    "                                     'Diabetes':'5',\n",
    "                                     'Migraine':'6',\n",
    "                                     'Influenza':'7',\n",
    "                                     'Pneumonia':'8',\n",
    "                                     'Bronchitis':'9',\n",
    "                                     'Hyperthyroidism':'10'})"
   ]
  },
  {
   "cell_type": "markdown",
   "id": "573d3726-b563-4ed4-a636-3456bef60865",
   "metadata": {},
   "source": [
    "Dropping columns not being used in model"
   ]
  },
  {
   "cell_type": "markdown",
   "id": "0b2fac68-a843-42df-a827-57a8a7bad621",
   "metadata": {},
   "source": [
    "Dropping these columns to make it easier to run model - original columns that were encoded, age and outcome variable."
   ]
  },
  {
   "cell_type": "code",
   "execution_count": 19,
   "id": "0628e506-47c2-4687-8897-4cbab0a87374",
   "metadata": {},
   "outputs": [
    {
     "data": {
      "text/html": [
       "<div>\n",
       "<style scoped>\n",
       "    .dataframe tbody tr th:only-of-type {\n",
       "        vertical-align: middle;\n",
       "    }\n",
       "\n",
       "    .dataframe tbody tr th {\n",
       "        vertical-align: top;\n",
       "    }\n",
       "\n",
       "    .dataframe thead th {\n",
       "        text-align: right;\n",
       "    }\n",
       "</style>\n",
       "<table border=\"1\" class=\"dataframe\">\n",
       "  <thead>\n",
       "    <tr style=\"text-align: right;\">\n",
       "      <th></th>\n",
       "      <th>encoded_Fever</th>\n",
       "      <th>encoded_Cough</th>\n",
       "      <th>encoded_Fatigue</th>\n",
       "      <th>encoded_DB</th>\n",
       "      <th>encoded_BP</th>\n",
       "      <th>encoded_CL</th>\n",
       "      <th>encoded_Gender</th>\n",
       "      <th>Disease</th>\n",
       "    </tr>\n",
       "  </thead>\n",
       "  <tbody>\n",
       "    <tr>\n",
       "      <th>0</th>\n",
       "      <td>1</td>\n",
       "      <td>0</td>\n",
       "      <td>1</td>\n",
       "      <td>1</td>\n",
       "      <td>1</td>\n",
       "      <td>2</td>\n",
       "      <td>0</td>\n",
       "      <td>7</td>\n",
       "    </tr>\n",
       "    <tr>\n",
       "      <th>1</th>\n",
       "      <td>0</td>\n",
       "      <td>1</td>\n",
       "      <td>1</td>\n",
       "      <td>0</td>\n",
       "      <td>2</td>\n",
       "      <td>2</td>\n",
       "      <td>0</td>\n",
       "      <td>Common Cold</td>\n",
       "    </tr>\n",
       "    <tr>\n",
       "      <th>2</th>\n",
       "      <td>0</td>\n",
       "      <td>1</td>\n",
       "      <td>1</td>\n",
       "      <td>0</td>\n",
       "      <td>2</td>\n",
       "      <td>2</td>\n",
       "      <td>0</td>\n",
       "      <td>Eczema</td>\n",
       "    </tr>\n",
       "    <tr>\n",
       "      <th>3</th>\n",
       "      <td>1</td>\n",
       "      <td>1</td>\n",
       "      <td>0</td>\n",
       "      <td>1</td>\n",
       "      <td>2</td>\n",
       "      <td>2</td>\n",
       "      <td>1</td>\n",
       "      <td>1</td>\n",
       "    </tr>\n",
       "    <tr>\n",
       "      <th>4</th>\n",
       "      <td>1</td>\n",
       "      <td>1</td>\n",
       "      <td>0</td>\n",
       "      <td>1</td>\n",
       "      <td>2</td>\n",
       "      <td>2</td>\n",
       "      <td>1</td>\n",
       "      <td>1</td>\n",
       "    </tr>\n",
       "    <tr>\n",
       "      <th>...</th>\n",
       "      <td>...</td>\n",
       "      <td>...</td>\n",
       "      <td>...</td>\n",
       "      <td>...</td>\n",
       "      <td>...</td>\n",
       "      <td>...</td>\n",
       "      <td>...</td>\n",
       "      <td>...</td>\n",
       "    </tr>\n",
       "    <tr>\n",
       "      <th>344</th>\n",
       "      <td>1</td>\n",
       "      <td>0</td>\n",
       "      <td>1</td>\n",
       "      <td>0</td>\n",
       "      <td>0</td>\n",
       "      <td>0</td>\n",
       "      <td>0</td>\n",
       "      <td>2</td>\n",
       "    </tr>\n",
       "    <tr>\n",
       "      <th>345</th>\n",
       "      <td>1</td>\n",
       "      <td>0</td>\n",
       "      <td>1</td>\n",
       "      <td>0</td>\n",
       "      <td>0</td>\n",
       "      <td>0</td>\n",
       "      <td>1</td>\n",
       "      <td>2</td>\n",
       "    </tr>\n",
       "    <tr>\n",
       "      <th>346</th>\n",
       "      <td>1</td>\n",
       "      <td>0</td>\n",
       "      <td>1</td>\n",
       "      <td>0</td>\n",
       "      <td>0</td>\n",
       "      <td>0</td>\n",
       "      <td>1</td>\n",
       "      <td>2</td>\n",
       "    </tr>\n",
       "    <tr>\n",
       "      <th>347</th>\n",
       "      <td>1</td>\n",
       "      <td>0</td>\n",
       "      <td>1</td>\n",
       "      <td>0</td>\n",
       "      <td>0</td>\n",
       "      <td>0</td>\n",
       "      <td>0</td>\n",
       "      <td>2</td>\n",
       "    </tr>\n",
       "    <tr>\n",
       "      <th>348</th>\n",
       "      <td>1</td>\n",
       "      <td>0</td>\n",
       "      <td>1</td>\n",
       "      <td>0</td>\n",
       "      <td>0</td>\n",
       "      <td>0</td>\n",
       "      <td>0</td>\n",
       "      <td>2</td>\n",
       "    </tr>\n",
       "  </tbody>\n",
       "</table>\n",
       "<p>349 rows × 8 columns</p>\n",
       "</div>"
      ],
      "text/plain": [
       "     encoded_Fever  encoded_Cough  encoded_Fatigue  encoded_DB  encoded_BP  \\\n",
       "0                1              0                1           1           1   \n",
       "1                0              1                1           0           2   \n",
       "2                0              1                1           0           2   \n",
       "3                1              1                0           1           2   \n",
       "4                1              1                0           1           2   \n",
       "..             ...            ...              ...         ...         ...   \n",
       "344              1              0                1           0           0   \n",
       "345              1              0                1           0           0   \n",
       "346              1              0                1           0           0   \n",
       "347              1              0                1           0           0   \n",
       "348              1              0                1           0           0   \n",
       "\n",
       "     encoded_CL  encoded_Gender      Disease  \n",
       "0             2               0            7  \n",
       "1             2               0  Common Cold  \n",
       "2             2               0       Eczema  \n",
       "3             2               1            1  \n",
       "4             2               1            1  \n",
       "..          ...             ...          ...  \n",
       "344           0               0            2  \n",
       "345           0               1            2  \n",
       "346           0               1            2  \n",
       "347           0               0            2  \n",
       "348           0               0            2  \n",
       "\n",
       "[349 rows x 8 columns]"
      ]
     },
     "execution_count": 19,
     "metadata": {},
     "output_type": "execute_result"
    }
   ],
   "source": [
    "disease_df = disease_data[['encoded_Fever', 'encoded_Cough','encoded_Fatigue', 'encoded_DB', 'encoded_BP', 'encoded_CL', 'encoded_Gender', 'Disease']].copy()\n",
    "disease_df"
   ]
  },
  {
   "cell_type": "markdown",
   "id": "92ae935a-d0a6-434e-ba03-f0396c0543ba",
   "metadata": {},
   "source": [
    "Dropping rows of disease that are not in the top 10 for count."
   ]
  },
  {
   "cell_type": "code",
   "execution_count": 20,
   "id": "d4693ea5-41a4-4328-bbcc-7fc6c84c5c1a",
   "metadata": {},
   "outputs": [
    {
     "data": {
      "text/html": [
       "<div>\n",
       "<style scoped>\n",
       "    .dataframe tbody tr th:only-of-type {\n",
       "        vertical-align: middle;\n",
       "    }\n",
       "\n",
       "    .dataframe tbody tr th {\n",
       "        vertical-align: top;\n",
       "    }\n",
       "\n",
       "    .dataframe thead th {\n",
       "        text-align: right;\n",
       "    }\n",
       "</style>\n",
       "<table border=\"1\" class=\"dataframe\">\n",
       "  <thead>\n",
       "    <tr style=\"text-align: right;\">\n",
       "      <th></th>\n",
       "      <th>encoded_Fever</th>\n",
       "      <th>encoded_Cough</th>\n",
       "      <th>encoded_Fatigue</th>\n",
       "      <th>encoded_DB</th>\n",
       "      <th>encoded_BP</th>\n",
       "      <th>encoded_CL</th>\n",
       "      <th>encoded_Gender</th>\n",
       "      <th>Disease</th>\n",
       "    </tr>\n",
       "  </thead>\n",
       "  <tbody>\n",
       "    <tr>\n",
       "      <th>0</th>\n",
       "      <td>1</td>\n",
       "      <td>0</td>\n",
       "      <td>1</td>\n",
       "      <td>1</td>\n",
       "      <td>1</td>\n",
       "      <td>2</td>\n",
       "      <td>0</td>\n",
       "      <td>7</td>\n",
       "    </tr>\n",
       "    <tr>\n",
       "      <th>3</th>\n",
       "      <td>1</td>\n",
       "      <td>1</td>\n",
       "      <td>0</td>\n",
       "      <td>1</td>\n",
       "      <td>2</td>\n",
       "      <td>2</td>\n",
       "      <td>1</td>\n",
       "      <td>1</td>\n",
       "    </tr>\n",
       "    <tr>\n",
       "      <th>4</th>\n",
       "      <td>1</td>\n",
       "      <td>1</td>\n",
       "      <td>0</td>\n",
       "      <td>1</td>\n",
       "      <td>2</td>\n",
       "      <td>2</td>\n",
       "      <td>1</td>\n",
       "      <td>1</td>\n",
       "    </tr>\n",
       "    <tr>\n",
       "      <th>6</th>\n",
       "      <td>1</td>\n",
       "      <td>1</td>\n",
       "      <td>1</td>\n",
       "      <td>1</td>\n",
       "      <td>2</td>\n",
       "      <td>2</td>\n",
       "      <td>0</td>\n",
       "      <td>7</td>\n",
       "    </tr>\n",
       "    <tr>\n",
       "      <th>7</th>\n",
       "      <td>1</td>\n",
       "      <td>1</td>\n",
       "      <td>1</td>\n",
       "      <td>1</td>\n",
       "      <td>2</td>\n",
       "      <td>2</td>\n",
       "      <td>0</td>\n",
       "      <td>7</td>\n",
       "    </tr>\n",
       "    <tr>\n",
       "      <th>...</th>\n",
       "      <td>...</td>\n",
       "      <td>...</td>\n",
       "      <td>...</td>\n",
       "      <td>...</td>\n",
       "      <td>...</td>\n",
       "      <td>...</td>\n",
       "      <td>...</td>\n",
       "      <td>...</td>\n",
       "    </tr>\n",
       "    <tr>\n",
       "      <th>344</th>\n",
       "      <td>1</td>\n",
       "      <td>0</td>\n",
       "      <td>1</td>\n",
       "      <td>0</td>\n",
       "      <td>0</td>\n",
       "      <td>0</td>\n",
       "      <td>0</td>\n",
       "      <td>2</td>\n",
       "    </tr>\n",
       "    <tr>\n",
       "      <th>345</th>\n",
       "      <td>1</td>\n",
       "      <td>0</td>\n",
       "      <td>1</td>\n",
       "      <td>0</td>\n",
       "      <td>0</td>\n",
       "      <td>0</td>\n",
       "      <td>1</td>\n",
       "      <td>2</td>\n",
       "    </tr>\n",
       "    <tr>\n",
       "      <th>346</th>\n",
       "      <td>1</td>\n",
       "      <td>0</td>\n",
       "      <td>1</td>\n",
       "      <td>0</td>\n",
       "      <td>0</td>\n",
       "      <td>0</td>\n",
       "      <td>1</td>\n",
       "      <td>2</td>\n",
       "    </tr>\n",
       "    <tr>\n",
       "      <th>347</th>\n",
       "      <td>1</td>\n",
       "      <td>0</td>\n",
       "      <td>1</td>\n",
       "      <td>0</td>\n",
       "      <td>0</td>\n",
       "      <td>0</td>\n",
       "      <td>0</td>\n",
       "      <td>2</td>\n",
       "    </tr>\n",
       "    <tr>\n",
       "      <th>348</th>\n",
       "      <td>1</td>\n",
       "      <td>0</td>\n",
       "      <td>1</td>\n",
       "      <td>0</td>\n",
       "      <td>0</td>\n",
       "      <td>0</td>\n",
       "      <td>0</td>\n",
       "      <td>2</td>\n",
       "    </tr>\n",
       "  </tbody>\n",
       "</table>\n",
       "<p>114 rows × 8 columns</p>\n",
       "</div>"
      ],
      "text/plain": [
       "     encoded_Fever  encoded_Cough  encoded_Fatigue  encoded_DB  encoded_BP  \\\n",
       "0                1              0                1           1           1   \n",
       "3                1              1                0           1           2   \n",
       "4                1              1                0           1           2   \n",
       "6                1              1                1           1           2   \n",
       "7                1              1                1           1           2   \n",
       "..             ...            ...              ...         ...         ...   \n",
       "344              1              0                1           0           0   \n",
       "345              1              0                1           0           0   \n",
       "346              1              0                1           0           0   \n",
       "347              1              0                1           0           0   \n",
       "348              1              0                1           0           0   \n",
       "\n",
       "     encoded_CL  encoded_Gender Disease  \n",
       "0             2               0       7  \n",
       "3             2               1       1  \n",
       "4             2               1       1  \n",
       "6             2               0       7  \n",
       "7             2               0       7  \n",
       "..          ...             ...     ...  \n",
       "344           0               0       2  \n",
       "345           0               1       2  \n",
       "346           0               1       2  \n",
       "347           0               0       2  \n",
       "348           0               0       2  \n",
       "\n",
       "[114 rows x 8 columns]"
      ]
     },
     "execution_count": 20,
     "metadata": {},
     "output_type": "execute_result"
    }
   ],
   "source": [
    "new_df = disease_df[(disease_df['Disease'] == '1') | (disease_df['Disease'] == '2') | (disease_df['Disease'] == '3')\n",
    "                      | (disease_df['Disease'] == '4') | (disease_df['Disease'] == '5') | (disease_df['Disease'] == '6')\n",
    "                      | (disease_df['Disease'] == '7') | (disease_df['Disease'] == '8') | (disease_df['Disease'] == '9') | (disease_df['Disease'] == '10')]\n",
    "new_df"
   ]
  },
  {
   "cell_type": "markdown",
   "id": "be74f960-9426-4897-b647-86dbaffac0cd",
   "metadata": {},
   "source": [
    "Implementing and Evaluating Different Models"
   ]
  },
  {
   "cell_type": "markdown",
   "id": "46d804a3-84b6-4c39-9460-802726560f27",
   "metadata": {},
   "source": [
    "Training model with first 50 rows of dataset and testing with the rest of the dataset"
   ]
  },
  {
   "cell_type": "code",
   "execution_count": 21,
   "id": "412cea5c-c0ba-4140-855f-7414ff258d92",
   "metadata": {},
   "outputs": [],
   "source": [
    "X_train = new_df.iloc[:50].drop(columns=['Disease'])\n",
    "X_test = new_df.iloc[50:].drop(columns=['Disease'])\n",
    "y_train = new_df['Disease'].iloc[:50]\n",
    "y_test = new_df['Disease'].iloc[50:]"
   ]
  },
  {
   "cell_type": "markdown",
   "id": "1e16f982-03a4-40e3-b861-578a2d780be1",
   "metadata": {},
   "source": [
    "Decision Tree"
   ]
  },
  {
   "cell_type": "code",
   "execution_count": 22,
   "id": "fdaae734-b9a1-4eaa-9486-048a210756d5",
   "metadata": {},
   "outputs": [],
   "source": [
    "from sklearn.tree import DecisionTreeClassifier\n",
    "\n",
    "class_tree = DecisionTreeClassifier()\n",
    "model_DT = class_tree.fit(X_train, y_train)"
   ]
  },
  {
   "cell_type": "code",
   "execution_count": 23,
   "id": "b7f9ba25-50c9-478f-b268-b80b2b46e46d",
   "metadata": {},
   "outputs": [],
   "source": [
    "y_pred_DT = model_DT.predict(X_test)"
   ]
  },
  {
   "cell_type": "code",
   "execution_count": 24,
   "id": "4a785e8c-a4a3-46cb-9294-d5cd87fcb631",
   "metadata": {},
   "outputs": [
    {
     "data": {
      "text/plain": [
       "0.078125"
      ]
     },
     "execution_count": 24,
     "metadata": {},
     "output_type": "execute_result"
    }
   ],
   "source": [
    "from sklearn.metrics import accuracy_score\n",
    "\n",
    "accuracy_DT = accuracy_score(y_test, y_pred_DT)\n",
    "accuracy_DT"
   ]
  },
  {
   "cell_type": "code",
   "execution_count": 25,
   "id": "fb04aef3-8825-4d65-8062-95838e9c2721",
   "metadata": {},
   "outputs": [
    {
     "name": "stderr",
     "output_type": "stream",
     "text": [
      "C:\\Users\\Brittany\\anaconda3\\lib\\site-packages\\sklearn\\metrics\\_classification.py:1334: UndefinedMetricWarning: Precision is ill-defined and being set to 0.0 in labels with no predicted samples. Use `zero_division` parameter to control this behavior.\n",
      "  _warn_prf(average, modifier, msg_start, len(result))\n"
     ]
    },
    {
     "data": {
      "text/plain": [
       "0.03718434343434343"
      ]
     },
     "execution_count": 25,
     "metadata": {},
     "output_type": "execute_result"
    }
   ],
   "source": [
    "from sklearn.metrics import precision_score\n",
    "\n",
    "precision_dt = precision_score(y_test, y_pred_DT, average='weighted')\n",
    "precision_dt"
   ]
  },
  {
   "cell_type": "code",
   "execution_count": 26,
   "id": "75a58d3b-eee9-496b-9e4d-7e26f0eaa77b",
   "metadata": {},
   "outputs": [
    {
     "data": {
      "text/plain": [
       "0.078125"
      ]
     },
     "execution_count": 26,
     "metadata": {},
     "output_type": "execute_result"
    }
   ],
   "source": [
    "from sklearn.metrics import recall_score\n",
    "\n",
    "recall_dt = recall_score(y_test, y_pred_DT, average='weighted')\n",
    "recall_dt"
   ]
  },
  {
   "cell_type": "code",
   "execution_count": 27,
   "id": "906fee42-7cbc-406d-afc2-e43087fdcf39",
   "metadata": {},
   "outputs": [
    {
     "data": {
      "text/plain": [
       "0.04595178372352285"
      ]
     },
     "execution_count": 27,
     "metadata": {},
     "output_type": "execute_result"
    }
   ],
   "source": [
    "from sklearn.metrics import f1_score\n",
    "\n",
    "f1_dt = f1_score(y_test, y_pred_DT, average='weighted')\n",
    "f1_dt"
   ]
  },
  {
   "cell_type": "code",
   "execution_count": 28,
   "id": "3414bc85-9f38-41a3-a851-c21590d4e6c9",
   "metadata": {},
   "outputs": [
    {
     "data": {
      "image/png": "[encoded data removed]",
      "text/plain": [
       "<Figure size 720x432 with 1 Axes>"
      ]
     },
     "metadata": {
      "needs_background": "light"
     },
     "output_type": "display_data"
    }
   ],
   "source": [
    "from sklearn.tree import plot_tree\n",
    "import matplotlib.pyplot as plt\n",
    "\n",
    "X = disease_df.drop(columns=['Disease'])\n",
    "plt.figure(figsize=(10, 6))\n",
    "plot_tree(model_DT, filled=True, feature_names=X.columns, class_names=list(map(str, model_DT.classes_)))\n",
    "plt.show()"
   ]
  },
  {
   "cell_type": "markdown",
   "id": "1ca39cc9-7e74-4a0d-bf47-e39ca3ffa492",
   "metadata": {},
   "source": [
    "Random Forests"
   ]
  },
  {
   "cell_type": "code",
   "execution_count": 29,
   "id": "942128a7-3786-46da-b834-913f32111527",
   "metadata": {},
   "outputs": [],
   "source": [
    "from sklearn.ensemble import RandomForestClassifier\n",
    "\n",
    "rf = RandomForestClassifier()\n",
    "model_rf = rf.fit(X_train, y_train)"
   ]
  },
  {
   "cell_type": "code",
   "execution_count": null,
   "id": "f6f57d04-707f-4885-90ef-53c1f2a79a7f",
   "metadata": {},
   "outputs": [],
   "source": [
    "y_pred_rf = rf.predict(X_test)"
   ]
  },
  {
   "cell_type": "code",
   "execution_count": null,
   "id": "382c18e1-b50b-4f5d-9cdd-e382305f02ae",
   "metadata": {},
   "outputs": [],
   "source": [
    "accuracy_rf = accuracy_score(y_pred_rf, y_test)\n",
    "accuracy_rf"
   ]
  },
  {
   "cell_type": "code",
   "execution_count": null,
   "id": "8fe57162-e337-4bb3-b9a6-4cba7047c8a7",
   "metadata": {},
   "outputs": [],
   "source": [
    "precision_rf = precision_score(y_test, y_pred_rf, average='weighted')\n",
    "precision_rf"
   ]
  },
  {
   "cell_type": "code",
   "execution_count": null,
   "id": "74a55021-228a-43a7-8580-d609ea414c1e",
   "metadata": {},
   "outputs": [],
   "source": [
    "recall_rf = recall_score(y_test, y_pred_rf, average='weighted')\n",
    "recall_rf"
   ]
  },
  {
   "cell_type": "code",
   "execution_count": null,
   "id": "5e9589d9-38a2-4c18-9aa6-00f7217c2221",
   "metadata": {},
   "outputs": [],
   "source": [
    "f1_rf = f1_score(y_test, y_pred_rf, average='weighted')\n",
    "f1_rf"
   ]
  },
  {
   "cell_type": "markdown",
   "id": "8a2c3229-f3e9-4432-89b4-6c82cd7a9df0",
   "metadata": {},
   "source": [
    "KNN"
   ]
  },
  {
   "cell_type": "code",
   "execution_count": null,
   "id": "bfd738d4-19c4-455d-8c7a-dd58f2b6e46c",
   "metadata": {},
   "outputs": [],
   "source": [
    "from sklearn.neighbors import KNeighborsClassifier\n",
    "\n",
    "knn = KNeighborsClassifier()\n",
    "model_knn = knn.fit(X_train, y_train)"
   ]
  },
  {
   "cell_type": "code",
   "execution_count": null,
   "id": "bd5f20aa-8472-4506-b5f0-50aea93d015d",
   "metadata": {},
   "outputs": [],
   "source": [
    "y_pred_knn = knn.predict(X_test)"
   ]
  },
  {
   "cell_type": "code",
   "execution_count": null,
   "id": "bb6c5303-5b4c-40ab-93ee-875b94b4b988",
   "metadata": {},
   "outputs": [],
   "source": [
    "accuracy_knn = accuracy_score(y_pred_knn, y_test)\n",
    "accuracy_knn"
   ]
  },
  {
   "cell_type": "code",
   "execution_count": null,
   "id": "38660e16-554e-4c45-b433-450aa16d7c78",
   "metadata": {},
   "outputs": [],
   "source": [
    "precision_knn = precision_score(y_test, y_pred_knn, average='weighted')\n",
    "precision_knn"
   ]
  },
  {
   "cell_type": "code",
   "execution_count": null,
   "id": "63b09432-cc17-42af-857b-23d1ef9adbe9",
   "metadata": {},
   "outputs": [],
   "source": [
    "recall_knn = recall_score(y_test, y_pred_knn, average='weighted')\n",
    "recall_knn"
   ]
  },
  {
   "cell_type": "code",
   "execution_count": null,
   "id": "3e039c6a-89ff-42d5-b411-126193c30fa5",
   "metadata": {},
   "outputs": [],
   "source": [
    "f1_knn = f1_score(y_test, y_pred_knn, average='weighted')\n",
    "f1_knn"
   ]
  },
  {
   "cell_type": "markdown",
   "id": "b9df491e-24ec-409d-9943-dbd2a88f90a2",
   "metadata": {},
   "source": [
    "Logistic Regression"
   ]
  },
  {
   "cell_type": "code",
   "execution_count": null,
   "id": "7052b80d-405b-428d-94ca-e23ebe24e7a0",
   "metadata": {},
   "outputs": [],
   "source": [
    "from sklearn.linear_model import LogisticRegression\n",
    "\n",
    "log = LogisticRegression()\n",
    "model_lr = log.fit(X_train, y_train)"
   ]
  },
  {
   "cell_type": "code",
   "execution_count": null,
   "id": "3ba93cf3-53e1-4967-876f-ed041b25abb7",
   "metadata": {},
   "outputs": [],
   "source": [
    "y_pred_log = log.predict(X_test)"
   ]
  },
  {
   "cell_type": "code",
   "execution_count": null,
   "id": "3558b878-4a41-4fff-a87a-0d15515e1c15",
   "metadata": {},
   "outputs": [],
   "source": [
    "accuracy_lr = accuracy_score(y_pred_log, y_test)\n",
    "accuracy_lr"
   ]
  },
  {
   "cell_type": "code",
   "execution_count": null,
   "id": "98c17cc1-a2fd-4ca5-9152-25777feece17",
   "metadata": {},
   "outputs": [],
   "source": [
    "precision_lr = precision_score(y_test, y_pred_log, average='weighted')\n",
    "precision_lr"
   ]
  },
  {
   "cell_type": "code",
   "execution_count": null,
   "id": "7e481146-793b-4903-ba71-fadf983b70d3",
   "metadata": {},
   "outputs": [],
   "source": [
    "recall_lr = recall_score(y_test, y_pred_log, average='weighted')\n",
    "recall_lr"
   ]
  },
  {
   "cell_type": "code",
   "execution_count": null,
   "id": "114dd7d8-0c6e-4544-8650-0668935b27c9",
   "metadata": {},
   "outputs": [],
   "source": [
    "f1_lr = f1_score(y_test, y_pred_log, average='weighted')\n",
    "f1_lr"
   ]
  },
  {
   "cell_type": "markdown",
   "id": "8fbfabfe-cea5-4713-b7a5-185e5f883206",
   "metadata": {},
   "source": [
    "Naives Bayes"
   ]
  },
  {
   "cell_type": "code",
   "execution_count": null,
   "id": "97b61499-4612-4386-bbcc-4d7ce3bc4ba4",
   "metadata": {},
   "outputs": [],
   "source": [
    "from sklearn.naive_bayes import GaussianNB\n",
    "\n",
    "nb = GaussianNB()\n",
    "model_nb = nb.fit(X_train, y_train)"
   ]
  },
  {
   "cell_type": "code",
   "execution_count": null,
   "id": "8d41db26-b14d-422c-bc9b-46ef561c2d70",
   "metadata": {},
   "outputs": [],
   "source": [
    "y_pred_nb = nb.predict(X_test)"
   ]
  },
  {
   "cell_type": "code",
   "execution_count": null,
   "id": "06858314-17fd-445d-9913-a88a2f171368",
   "metadata": {},
   "outputs": [],
   "source": [
    "accuracy_nb = accuracy_score(y_pred_nb, y_test)\n",
    "accuracy_nb"
   ]
  },
  {
   "cell_type": "code",
   "execution_count": null,
   "id": "04ef24a3-b8f9-4ee4-ad4c-1990a0b86ed7",
   "metadata": {},
   "outputs": [],
   "source": [
    "precision_nb = precision_score(y_test, y_pred_nb, average='weighted')\n",
    "precision_nb"
   ]
  },
  {
   "cell_type": "code",
   "execution_count": null,
   "id": "bf3c49ce-7739-4857-b0c2-48754dd93b30",
   "metadata": {},
   "outputs": [],
   "source": [
    "recall_nb = recall_score(y_test, y_pred_nb, average='weighted')\n",
    "recall_nb"
   ]
  },
  {
   "cell_type": "code",
   "execution_count": null,
   "id": "ca6db3e3-dfb0-47e2-bd86-9f7890a38fcf",
   "metadata": {},
   "outputs": [],
   "source": [
    "f1_nb = f1_score(y_test, y_pred_nb, average='weighted')\n",
    "f1_nb"
   ]
  },
  {
   "cell_type": "markdown",
   "id": "a0f7702c-b4ad-4b6b-845f-6c59feb6bcea",
   "metadata": {},
   "source": [
    "Based on accuracy score, precision, recall and f1-score, the Random Forest Model is the best model to use."
   ]
  },
  {
   "cell_type": "markdown",
   "id": "b62ed8b8-66dd-40b2-bf37-dd959895f1b2",
   "metadata": {},
   "source": [
    "Validation of Model"
   ]
  },
  {
   "cell_type": "code",
   "execution_count": null,
   "id": "7508b46f-4e97-4af0-a53b-def7e796eb4c",
   "metadata": {},
   "outputs": [],
   "source": [
    "from sklearn.metrics import confusion_matrix\n",
    "import seaborn as sns\n",
    "import matplotlib.pyplot as plt\n",
    "\n",
    "cm = confusion_matrix(y_test, y_pred_rf)\n",
    "cm"
   ]
  },
  {
   "cell_type": "code",
   "execution_count": null,
   "id": "f569205e-0742-442e-8296-10f5223d521d",
   "metadata": {},
   "outputs": [],
   "source": [
    "plt.figure(figsize=(8, 6))\n",
    "sns.heatmap(cm, annot=True, fmt='d', cmap='Blues',\n",
    "            xticklabels=['Pred 0', 'Pred 1', 'Pred 2', 'Pred 3', 'Pred 4', 'Pred 5', 'Pred 6', 'Pred 7', 'Pred 8', 'Pred 9'],\n",
    "            yticklabels=['Test 0', 'Test 1', 'Test 2', 'Test 3', 'Test 4', 'Test 5', 'Test 6', 'Test 7', 'Test 8', 'Test 9'])\n",
    "plt.xlabel('Predicted')\n",
    "plt.ylabel('Tested')\n",
    "plt.show()"
   ]
  },
  {
   "cell_type": "markdown",
   "id": "9cbbb9b2-7e6c-4e18-9c11-689b5b6b354f",
   "metadata": {},
   "source": [
    "Overall, even thought the model is not very precise I am happy I was able to create it.  Now, since I have more knowledge than when I started this course.  I believe I might make this so I can predicted whether or not there will be a postiive patient outcome depending on the diagnois and/or symptoms."
   ]
  },
  {
   "cell_type": "code",
   "execution_count": null,
   "id": "51eb2fc3-d4e8-49bf-ad30-e4a5984d9f85",
   "metadata": {},
   "outputs": [],
   "source": []
  }
 ],
 "metadata": {
  "kernelspec": {
   "display_name": "Python 3 (ipykernel)",
   "language": "python",
   "name": "python3"
  },
  "language_info": {
   "codemirror_mode": {
    "name": "ipython",
    "version": 3
   },
   "file_extension": ".py",
   "mimetype": "text/x-python",
   "name": "python",
   "nbconvert_exporter": "python",
   "pygments_lexer": "ipython3",
   "version": "3.9.12"
  }
 },
 "nbformat": 4,
 "nbformat_minor": 5
}
