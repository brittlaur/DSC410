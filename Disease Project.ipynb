{
 "cells": [
  {
   "cell_type": "code",
   "execution_count": 1,
   "id": "ff6e7d48-ce74-4bca-9211-05606e9e0d27",
   "metadata": {
    "tags": []
   },
   "outputs": [
    {
     "data": {
      "text/html": [
       "<div>\n",
       "<style scoped>\n",
       "    .dataframe tbody tr th:only-of-type {\n",
       "        vertical-align: middle;\n",
       "    }\n",
       "\n",
       "    .dataframe tbody tr th {\n",
       "        vertical-align: top;\n",
       "    }\n",
       "\n",
       "    .dataframe thead th {\n",
       "        text-align: right;\n",
       "    }\n",
       "</style>\n",
       "<table border=\"1\" class=\"dataframe\">\n",
       "  <thead>\n",
       "    <tr style=\"text-align: right;\">\n",
       "      <th></th>\n",
       "      <th>Disease</th>\n",
       "      <th>Fever</th>\n",
       "      <th>Cough</th>\n",
       "      <th>Fatigue</th>\n",
       "      <th>Difficulty Breathing</th>\n",
       "      <th>Age</th>\n",
       "      <th>Gender</th>\n",
       "      <th>Blood Pressure</th>\n",
       "      <th>Cholesterol Level</th>\n",
       "      <th>Outcome Variable</th>\n",
       "    </tr>\n",
       "  </thead>\n",
       "  <tbody>\n",
       "    <tr>\n",
       "      <th>0</th>\n",
       "      <td>Influenza</td>\n",
       "      <td>Yes</td>\n",
       "      <td>No</td>\n",
       "      <td>Yes</td>\n",
       "      <td>Yes</td>\n",
       "      <td>19</td>\n",
       "      <td>Female</td>\n",
       "      <td>Low</td>\n",
       "      <td>Normal</td>\n",
       "      <td>Positive</td>\n",
       "    </tr>\n",
       "    <tr>\n",
       "      <th>1</th>\n",
       "      <td>Common Cold</td>\n",
       "      <td>No</td>\n",
       "      <td>Yes</td>\n",
       "      <td>Yes</td>\n",
       "      <td>No</td>\n",
       "      <td>25</td>\n",
       "      <td>Female</td>\n",
       "      <td>Normal</td>\n",
       "      <td>Normal</td>\n",
       "      <td>Negative</td>\n",
       "    </tr>\n",
       "    <tr>\n",
       "      <th>2</th>\n",
       "      <td>Eczema</td>\n",
       "      <td>No</td>\n",
       "      <td>Yes</td>\n",
       "      <td>Yes</td>\n",
       "      <td>No</td>\n",
       "      <td>25</td>\n",
       "      <td>Female</td>\n",
       "      <td>Normal</td>\n",
       "      <td>Normal</td>\n",
       "      <td>Negative</td>\n",
       "    </tr>\n",
       "    <tr>\n",
       "      <th>3</th>\n",
       "      <td>Asthma</td>\n",
       "      <td>Yes</td>\n",
       "      <td>Yes</td>\n",
       "      <td>No</td>\n",
       "      <td>Yes</td>\n",
       "      <td>25</td>\n",
       "      <td>Male</td>\n",
       "      <td>Normal</td>\n",
       "      <td>Normal</td>\n",
       "      <td>Positive</td>\n",
       "    </tr>\n",
       "    <tr>\n",
       "      <th>4</th>\n",
       "      <td>Asthma</td>\n",
       "      <td>Yes</td>\n",
       "      <td>Yes</td>\n",
       "      <td>No</td>\n",
       "      <td>Yes</td>\n",
       "      <td>25</td>\n",
       "      <td>Male</td>\n",
       "      <td>Normal</td>\n",
       "      <td>Normal</td>\n",
       "      <td>Positive</td>\n",
       "    </tr>\n",
       "    <tr>\n",
       "      <th>...</th>\n",
       "      <td>...</td>\n",
       "      <td>...</td>\n",
       "      <td>...</td>\n",
       "      <td>...</td>\n",
       "      <td>...</td>\n",
       "      <td>...</td>\n",
       "      <td>...</td>\n",
       "      <td>...</td>\n",
       "      <td>...</td>\n",
       "      <td>...</td>\n",
       "    </tr>\n",
       "    <tr>\n",
       "      <th>344</th>\n",
       "      <td>Stroke</td>\n",
       "      <td>Yes</td>\n",
       "      <td>No</td>\n",
       "      <td>Yes</td>\n",
       "      <td>No</td>\n",
       "      <td>80</td>\n",
       "      <td>Female</td>\n",
       "      <td>High</td>\n",
       "      <td>High</td>\n",
       "      <td>Positive</td>\n",
       "    </tr>\n",
       "    <tr>\n",
       "      <th>345</th>\n",
       "      <td>Stroke</td>\n",
       "      <td>Yes</td>\n",
       "      <td>No</td>\n",
       "      <td>Yes</td>\n",
       "      <td>No</td>\n",
       "      <td>85</td>\n",
       "      <td>Male</td>\n",
       "      <td>High</td>\n",
       "      <td>High</td>\n",
       "      <td>Positive</td>\n",
       "    </tr>\n",
       "    <tr>\n",
       "      <th>346</th>\n",
       "      <td>Stroke</td>\n",
       "      <td>Yes</td>\n",
       "      <td>No</td>\n",
       "      <td>Yes</td>\n",
       "      <td>No</td>\n",
       "      <td>85</td>\n",
       "      <td>Male</td>\n",
       "      <td>High</td>\n",
       "      <td>High</td>\n",
       "      <td>Positive</td>\n",
       "    </tr>\n",
       "    <tr>\n",
       "      <th>347</th>\n",
       "      <td>Stroke</td>\n",
       "      <td>Yes</td>\n",
       "      <td>No</td>\n",
       "      <td>Yes</td>\n",
       "      <td>No</td>\n",
       "      <td>90</td>\n",
       "      <td>Female</td>\n",
       "      <td>High</td>\n",
       "      <td>High</td>\n",
       "      <td>Positive</td>\n",
       "    </tr>\n",
       "    <tr>\n",
       "      <th>348</th>\n",
       "      <td>Stroke</td>\n",
       "      <td>Yes</td>\n",
       "      <td>No</td>\n",
       "      <td>Yes</td>\n",
       "      <td>No</td>\n",
       "      <td>90</td>\n",
       "      <td>Female</td>\n",
       "      <td>High</td>\n",
       "      <td>High</td>\n",
       "      <td>Positive</td>\n",
       "    </tr>\n",
       "  </tbody>\n",
       "</table>\n",
       "<p>349 rows × 10 columns</p>\n",
       "</div>"
      ],
      "text/plain": [
       "         Disease Fever Cough Fatigue Difficulty Breathing  Age  Gender  \\\n",
       "0      Influenza   Yes    No     Yes                  Yes   19  Female   \n",
       "1    Common Cold    No   Yes     Yes                   No   25  Female   \n",
       "2         Eczema    No   Yes     Yes                   No   25  Female   \n",
       "3         Asthma   Yes   Yes      No                  Yes   25    Male   \n",
       "4         Asthma   Yes   Yes      No                  Yes   25    Male   \n",
       "..           ...   ...   ...     ...                  ...  ...     ...   \n",
       "344       Stroke   Yes    No     Yes                   No   80  Female   \n",
       "345       Stroke   Yes    No     Yes                   No   85    Male   \n",
       "346       Stroke   Yes    No     Yes                   No   85    Male   \n",
       "347       Stroke   Yes    No     Yes                   No   90  Female   \n",
       "348       Stroke   Yes    No     Yes                   No   90  Female   \n",
       "\n",
       "    Blood Pressure Cholesterol Level Outcome Variable  \n",
       "0              Low            Normal         Positive  \n",
       "1           Normal            Normal         Negative  \n",
       "2           Normal            Normal         Negative  \n",
       "3           Normal            Normal         Positive  \n",
       "4           Normal            Normal         Positive  \n",
       "..             ...               ...              ...  \n",
       "344           High              High         Positive  \n",
       "345           High              High         Positive  \n",
       "346           High              High         Positive  \n",
       "347           High              High         Positive  \n",
       "348           High              High         Positive  \n",
       "\n",
       "[349 rows x 10 columns]"
      ]
     },
     "execution_count": 1,
     "metadata": {},
     "output_type": "execute_result"
    }
   ],
   "source": [
    "#Brittany Roberts\n",
    "#DSC410\n",
    "#Project\n",
    "\n",
    "import pandas as pd\n",
    "import numpy as np\n",
    "import matplotlib.pyplot as plt\n",
    "import seaborn as sns\n",
    "import os\n",
    "\n",
    "disease_data = pd.read_csv(\"/home/devpc/Documents/Disease_symptom_and_patient_profile_dataset.csv\")\n",
    "disease_data"
   ]
  },
  {
   "cell_type": "code",
   "execution_count": 2,
   "id": "88ecd0df-8cf6-4845-9eaa-1aae2069b1a2",
   "metadata": {
    "tags": []
   },
   "outputs": [
    {
     "name": "stdout",
     "output_type": "stream",
     "text": [
      "     count  percent\n",
      "Yes    175     50.1\n",
      "No     174     49.9\n"
     ]
    },
    {
     "data": {
      "image/png": "[encoded data removed]",
      "text/plain": [
       "<Figure size 640x480 with 1 Axes>"
      ]
     },
     "metadata": {},
     "output_type": "display_data"
    }
   ],
   "source": [
    "count = disease_data['Fever'].value_counts()\n",
    "percent = 100*disease_data['Fever'].value_counts(normalize=True)\n",
    "df=pd.DataFrame({'count':count, 'percent':percent.round(1)})\n",
    "print(df)\n",
    "count.plot(kind='bar', title = 'Fever');"
   ]
  },
  {
   "cell_type": "code",
   "execution_count": 3,
   "id": "d9930347-885b-4f11-bd29-3e9d2d9db85b",
   "metadata": {
    "tags": []
   },
   "outputs": [
    {
     "name": "stdout",
     "output_type": "stream",
     "text": [
      "     count  percent\n",
      "No     182     52.1\n",
      "Yes    167     47.9\n"
     ]
    },
    {
     "data": {
      "image/png": "[encoded data removed]",
      "text/plain": [
       "<Figure size 640x480 with 1 Axes>"
      ]
     },
     "metadata": {},
     "output_type": "display_data"
    }
   ],
   "source": [
    "count = disease_data['Cough'].value_counts()\n",
    "percent = 100*disease_data['Cough'].value_counts(normalize=True)\n",
    "df=pd.DataFrame({'count':count, 'percent':percent.round(1)})\n",
    "print(df)\n",
    "count.plot(kind='bar', title = 'Cough');"
   ]
  },
  {
   "cell_type": "code",
   "execution_count": 4,
   "id": "0598fb0f-d451-4f34-9f58-3de3a9a6beb4",
   "metadata": {
    "tags": []
   },
   "outputs": [
    {
     "name": "stdout",
     "output_type": "stream",
     "text": [
      "     count  percent\n",
      "Yes    242     69.3\n",
      "No     107     30.7\n"
     ]
    },
    {
     "data": {
      "image/png": "[encoded data removed]",
      "text/plain": [
       "<Figure size 640x480 with 1 Axes>"
      ]
     },
     "metadata": {},
     "output_type": "display_data"
    }
   ],
   "source": [
    "count = disease_data['Fatigue'].value_counts()\n",
    "percent = 100*disease_data['Fatigue'].value_counts(normalize=True)\n",
    "df=pd.DataFrame({'count':count, 'percent':percent.round(1)})\n",
    "print(df)\n",
    "count.plot(kind='bar', title = 'Fatigue');"
   ]
  },
  {
   "cell_type": "code",
   "execution_count": 5,
   "id": "a458a1ef-807f-4a37-8faa-0ce13bef1462",
   "metadata": {
    "tags": []
   },
   "outputs": [
    {
     "name": "stdout",
     "output_type": "stream",
     "text": [
      "     count  percent\n",
      "No     261     74.8\n",
      "Yes     88     25.2\n"
     ]
    },
    {
     "data": {
      "image/png": "[encoded data removed]",
      "text/plain": [
       "<Figure size 640x480 with 1 Axes>"
      ]
     },
     "metadata": {},
     "output_type": "display_data"
    }
   ],
   "source": [
    "count = disease_data['Difficulty Breathing'].value_counts()\n",
    "percent = 100*disease_data['Difficulty Breathing'].value_counts(normalize=True)\n",
    "df=pd.DataFrame({'count':count, 'percent':percent.round(1)})\n",
    "print(df)\n",
    "count.plot(kind='bar', title = 'Difficulty Breathing');"
   ]
  },
  {
   "cell_type": "code",
   "execution_count": 6,
   "id": "bc4a183b-6b42-4d53-9263-c048081ee919",
   "metadata": {
    "tags": []
   },
   "outputs": [
    {
     "name": "stdout",
     "output_type": "stream",
     "text": [
      "        count  percent\n",
      "Female    176     50.4\n",
      "Male      173     49.6\n"
     ]
    },
    {
     "data": {
      "image/png": "[encoded data removed]",
      "text/plain": [
       "<Figure size 640x480 with 1 Axes>"
      ]
     },
     "metadata": {},
     "output_type": "display_data"
    }
   ],
   "source": [
    "count = disease_data['Gender'].value_counts()\n",
    "percent = 100*disease_data['Gender'].value_counts(normalize=True)\n",
    "df=pd.DataFrame({'count':count, 'percent':percent.round(1)})\n",
    "print(df)\n",
    "count.plot(kind='bar', title = 'Gender');"
   ]
  },
  {
   "cell_type": "code",
   "execution_count": 7,
   "id": "a9402519-1b14-4788-bd06-76afe1ce9be6",
   "metadata": {
    "tags": []
   },
   "outputs": [
    {
     "name": "stdout",
     "output_type": "stream",
     "text": [
      "        count  percent\n",
      "High      167     47.9\n",
      "Normal    164     47.0\n",
      "Low        18      5.2\n"
     ]
    },
    {
     "data": {
      "image/png": "[encoded data removed]",
      "text/plain": [
       "<Figure size 640x480 with 1 Axes>"
      ]
     },
     "metadata": {},
     "output_type": "display_data"
    }
   ],
   "source": [
    "count = disease_data['Blood Pressure'].value_counts()\n",
    "percent = 100*disease_data['Blood Pressure'].value_counts(normalize=True)\n",
    "df=pd.DataFrame({'count':count, 'percent':percent.round(1)})\n",
    "print(df)\n",
    "count.plot(kind='bar', title = 'Blood Pressure');"
   ]
  },
  {
   "cell_type": "code",
   "execution_count": 8,
   "id": "20d9bab5-4be9-4638-a31d-72d738fec9c8",
   "metadata": {
    "tags": []
   },
   "outputs": [
    {
     "name": "stdout",
     "output_type": "stream",
     "text": [
      "        count  percent\n",
      "High      166     47.6\n",
      "Normal    149     42.7\n",
      "Low        34      9.7\n"
     ]
    },
    {
     "data": {
      "image/png": "[encoded data removed]",
      "text/plain": [
       "<Figure size 640x480 with 1 Axes>"
      ]
     },
     "metadata": {},
     "output_type": "display_data"
    }
   ],
   "source": [
    "count = disease_data['Cholesterol Level'].value_counts()\n",
    "percent = 100*disease_data['Cholesterol Level'].value_counts(normalize=True)\n",
    "df=pd.DataFrame({'count':count, 'percent':percent.round(1)})\n",
    "print(df)\n",
    "count.plot(kind='bar', title = 'Cholesterol Level');"
   ]
  },
  {
   "cell_type": "code",
   "execution_count": 9,
   "id": "be1fed86-39e5-423f-88b0-a191025f0c90",
   "metadata": {
    "tags": []
   },
   "outputs": [
    {
     "name": "stdout",
     "output_type": "stream",
     "text": [
      "          count  percent\n",
      "Positive    186     53.3\n",
      "Negative    163     46.7\n"
     ]
    },
    {
     "data": {
      "image/png": "[encoded data removed]",
      "text/plain": [
       "<Figure size 640x480 with 1 Axes>"
      ]
     },
     "metadata": {},
     "output_type": "display_data"
    }
   ],
   "source": [
    "count = disease_data['Outcome Variable'].value_counts()\n",
    "percent = 100*disease_data['Outcome Variable'].value_counts(normalize=True)\n",
    "df=pd.DataFrame({'count':count, 'percent':percent.round(1)})\n",
    "print(df)\n",
    "count.plot(kind='bar', title = 'Outcome Variable');"
   ]
  },
  {
   "cell_type": "code",
   "execution_count": 10,
   "id": "c0e32e5b-dc93-4f36-8a28-51185dfa8648",
   "metadata": {
    "tags": []
   },
   "outputs": [],
   "source": [
    "def desc_num_feature(feature_name, bins=30, edgecolor='k', **kwargs):\n",
    "    fig, ax = plt.subplots(figsize=(8,4))\n",
    "    disease_data[feature_name].hist(bins=bins, edgecolor=edgecolor, ax=ax, **kwargs)\n",
    "    ax.set_title(feature_name, size=15)\n",
    "    plt.figtext(1,0.15, str(disease_data[feature_name].describe().round(2).astype(str)), size=17)"
   ]
  },
  {
   "cell_type": "code",
   "execution_count": 11,
   "id": "4eb6a41c-1fa2-4b68-b737-99e02e99dde5",
   "metadata": {
    "tags": []
   },
   "outputs": [
    {
     "data": {
      "image/png": "[encoded data removed]",
      "text/plain": [
       "<Figure size 800x400 with 1 Axes>"
      ]
     },
     "metadata": {},
     "output_type": "display_data"
    }
   ],
   "source": [
    "desc_num_feature('Age')"
   ]
  },
  {
   "cell_type": "code",
   "execution_count": 12,
   "id": "b3b4d33c-7126-4653-a351-495d8d80a014",
   "metadata": {
    "tags": []
   },
   "outputs": [
    {
     "name": "stdout",
     "output_type": "stream",
     "text": [
      "NaN Count for Fever: 0\n",
      "NaN Count for Cough: 0\n",
      "NaN Count for Fatigue: 0\n",
      "NaN Count for Difficulty Breathing: 0\n",
      "NaN Count for Gender: 0\n",
      "NaN Count for Blood Pressure: 0\n",
      "NaN Count for Cholesterol: 0\n"
     ]
    }
   ],
   "source": [
    "print('NaN Count for Fever:', disease_data['Fever'].isnull().sum())\n",
    "print('NaN Count for Cough:', disease_data['Cough'].isnull().sum())\n",
    "print('NaN Count for Fatigue:', disease_data['Fatigue'].isnull().sum())\n",
    "print('NaN Count for Difficulty Breathing:', disease_data['Difficulty Breathing'].isnull().sum())\n",
    "print('NaN Count for Gender:', disease_data['Gender'].isnull().sum())\n",
    "print('NaN Count for Blood Pressure:', disease_data['Blood Pressure'].isnull().sum())\n",
    "print('NaN Count for Cholesterol:', disease_data['Cholesterol Level'].isnull().sum())"
   ]
  },
  {
   "cell_type": "code",
   "execution_count": 13,
   "id": "95bcacd9-937f-452b-ac2a-6b681e729c56",
   "metadata": {
    "tags": []
   },
   "outputs": [],
   "source": [
    "from sklearn.preprocessing import OrdinalEncoder\n",
    "\n",
    "oe = OrdinalEncoder()\n",
    "\n",
    "disease_data['encoded_Fever'] = oe.fit_transform(disease_data[['Fever']]).astype(int)\n",
    "#disease_data"
   ]
  },
  {
   "cell_type": "code",
   "execution_count": 14,
   "id": "6e2cadd8-79a3-4cd0-8a0b-fe3a5f468ada",
   "metadata": {
    "tags": []
   },
   "outputs": [],
   "source": [
    "disease_data['encoded_Cough'] = oe.fit_transform(disease_data[['Cough']]).astype(int)\n",
    "disease_data['encoded_Fatigue'] = oe.fit_transform(disease_data[['Fatigue']]).astype(int)\n",
    "disease_data['encoded_DB'] = oe.fit_transform(disease_data[['Difficulty Breathing']]).astype(int)\n",
    "disease_data['encoded_BP'] = oe.fit_transform(disease_data[['Blood Pressure']]).astype(int)\n",
    "disease_data['encoded_CL'] = oe.fit_transform(disease_data[['Cholesterol Level']]).astype(int)\n",
    "disease_data['encoded_Outcome'] = oe.fit_transform(disease_data[['Outcome Variable']]).astype(int)\n",
    "#disease_data"
   ]
  },
  {
   "cell_type": "code",
   "execution_count": 15,
   "id": "b4439e68-a984-4466-8107-18ba1ce78be6",
   "metadata": {
    "tags": []
   },
   "outputs": [
    {
     "name": "stderr",
     "output_type": "stream",
     "text": [
      "/home/devpc/anaconda3/lib/python3.11/site-packages/sklearn/preprocessing/_label.py:116: DataConversionWarning: A column-vector y was passed when a 1d array was expected. Please change the shape of y to (n_samples, ), for example using ravel().\n",
      "  y = column_or_1d(y, warn=True)\n"
     ]
    }
   ],
   "source": [
    "from sklearn.preprocessing import LabelEncoder\n",
    "\n",
    "le = LabelEncoder()\n",
    "\n",
    "disease_data['encoded_Gender'] = le.fit_transform(disease_data[['Gender']])\n",
    "#disease_data"
   ]
  },
  {
   "cell_type": "code",
   "execution_count": 16,
   "id": "b2927d5d-eebb-48ac-bba4-d2a290d566eb",
   "metadata": {
    "tags": []
   },
   "outputs": [],
   "source": [
    "disease_data = disease_data.replace({'Asthma':'1',\n",
    "                                     'Stroke':'2',\n",
    "                                     'Osteoporosis':'3',\n",
    "                                     'Hypertension':'4',\n",
    "                                     'Diabetes':'5',\n",
    "                                     'Migraine':'6',\n",
    "                                     'Influenza':'7',\n",
    "                                     'Pneumonia':'8',\n",
    "                                     'Bronchitis':'9',\n",
    "                                     'Hyperthyroidism':'10'})"
   ]
  },
  {
   "cell_type": "code",
   "execution_count": 17,
   "id": "4ae312cc-0a13-41e4-ae1b-632d1323971d",
   "metadata": {
    "tags": []
   },
   "outputs": [
    {
     "data": {
      "text/html": [
       "<div>\n",
       "<style scoped>\n",
       "    .dataframe tbody tr th:only-of-type {\n",
       "        vertical-align: middle;\n",
       "    }\n",
       "\n",
       "    .dataframe tbody tr th {\n",
       "        vertical-align: top;\n",
       "    }\n",
       "\n",
       "    .dataframe thead th {\n",
       "        text-align: right;\n",
       "    }\n",
       "</style>\n",
       "<table border=\"1\" class=\"dataframe\">\n",
       "  <thead>\n",
       "    <tr style=\"text-align: right;\">\n",
       "      <th></th>\n",
       "      <th>encoded_Fever</th>\n",
       "      <th>encoded_Cough</th>\n",
       "      <th>encoded_Fatigue</th>\n",
       "      <th>encoded_DB</th>\n",
       "      <th>encoded_BP</th>\n",
       "      <th>encoded_CL</th>\n",
       "      <th>encoded_Gender</th>\n",
       "      <th>encoded_Outcome</th>\n",
       "      <th>Disease</th>\n",
       "    </tr>\n",
       "  </thead>\n",
       "  <tbody>\n",
       "    <tr>\n",
       "      <th>0</th>\n",
       "      <td>1</td>\n",
       "      <td>0</td>\n",
       "      <td>1</td>\n",
       "      <td>1</td>\n",
       "      <td>1</td>\n",
       "      <td>2</td>\n",
       "      <td>0</td>\n",
       "      <td>1</td>\n",
       "      <td>7</td>\n",
       "    </tr>\n",
       "    <tr>\n",
       "      <th>1</th>\n",
       "      <td>0</td>\n",
       "      <td>1</td>\n",
       "      <td>1</td>\n",
       "      <td>0</td>\n",
       "      <td>2</td>\n",
       "      <td>2</td>\n",
       "      <td>0</td>\n",
       "      <td>0</td>\n",
       "      <td>Common Cold</td>\n",
       "    </tr>\n",
       "    <tr>\n",
       "      <th>2</th>\n",
       "      <td>0</td>\n",
       "      <td>1</td>\n",
       "      <td>1</td>\n",
       "      <td>0</td>\n",
       "      <td>2</td>\n",
       "      <td>2</td>\n",
       "      <td>0</td>\n",
       "      <td>0</td>\n",
       "      <td>Eczema</td>\n",
       "    </tr>\n",
       "    <tr>\n",
       "      <th>3</th>\n",
       "      <td>1</td>\n",
       "      <td>1</td>\n",
       "      <td>0</td>\n",
       "      <td>1</td>\n",
       "      <td>2</td>\n",
       "      <td>2</td>\n",
       "      <td>1</td>\n",
       "      <td>1</td>\n",
       "      <td>1</td>\n",
       "    </tr>\n",
       "    <tr>\n",
       "      <th>4</th>\n",
       "      <td>1</td>\n",
       "      <td>1</td>\n",
       "      <td>0</td>\n",
       "      <td>1</td>\n",
       "      <td>2</td>\n",
       "      <td>2</td>\n",
       "      <td>1</td>\n",
       "      <td>1</td>\n",
       "      <td>1</td>\n",
       "    </tr>\n",
       "    <tr>\n",
       "      <th>...</th>\n",
       "      <td>...</td>\n",
       "      <td>...</td>\n",
       "      <td>...</td>\n",
       "      <td>...</td>\n",
       "      <td>...</td>\n",
       "      <td>...</td>\n",
       "      <td>...</td>\n",
       "      <td>...</td>\n",
       "      <td>...</td>\n",
       "    </tr>\n",
       "    <tr>\n",
       "      <th>344</th>\n",
       "      <td>1</td>\n",
       "      <td>0</td>\n",
       "      <td>1</td>\n",
       "      <td>0</td>\n",
       "      <td>0</td>\n",
       "      <td>0</td>\n",
       "      <td>0</td>\n",
       "      <td>1</td>\n",
       "      <td>2</td>\n",
       "    </tr>\n",
       "    <tr>\n",
       "      <th>345</th>\n",
       "      <td>1</td>\n",
       "      <td>0</td>\n",
       "      <td>1</td>\n",
       "      <td>0</td>\n",
       "      <td>0</td>\n",
       "      <td>0</td>\n",
       "      <td>1</td>\n",
       "      <td>1</td>\n",
       "      <td>2</td>\n",
       "    </tr>\n",
       "    <tr>\n",
       "      <th>346</th>\n",
       "      <td>1</td>\n",
       "      <td>0</td>\n",
       "      <td>1</td>\n",
       "      <td>0</td>\n",
       "      <td>0</td>\n",
       "      <td>0</td>\n",
       "      <td>1</td>\n",
       "      <td>1</td>\n",
       "      <td>2</td>\n",
       "    </tr>\n",
       "    <tr>\n",
       "      <th>347</th>\n",
       "      <td>1</td>\n",
       "      <td>0</td>\n",
       "      <td>1</td>\n",
       "      <td>0</td>\n",
       "      <td>0</td>\n",
       "      <td>0</td>\n",
       "      <td>0</td>\n",
       "      <td>1</td>\n",
       "      <td>2</td>\n",
       "    </tr>\n",
       "    <tr>\n",
       "      <th>348</th>\n",
       "      <td>1</td>\n",
       "      <td>0</td>\n",
       "      <td>1</td>\n",
       "      <td>0</td>\n",
       "      <td>0</td>\n",
       "      <td>0</td>\n",
       "      <td>0</td>\n",
       "      <td>1</td>\n",
       "      <td>2</td>\n",
       "    </tr>\n",
       "  </tbody>\n",
       "</table>\n",
       "<p>349 rows × 9 columns</p>\n",
       "</div>"
      ],
      "text/plain": [
       "     encoded_Fever  encoded_Cough  encoded_Fatigue  encoded_DB  encoded_BP  \\\n",
       "0                1              0                1           1           1   \n",
       "1                0              1                1           0           2   \n",
       "2                0              1                1           0           2   \n",
       "3                1              1                0           1           2   \n",
       "4                1              1                0           1           2   \n",
       "..             ...            ...              ...         ...         ...   \n",
       "344              1              0                1           0           0   \n",
       "345              1              0                1           0           0   \n",
       "346              1              0                1           0           0   \n",
       "347              1              0                1           0           0   \n",
       "348              1              0                1           0           0   \n",
       "\n",
       "     encoded_CL  encoded_Gender  encoded_Outcome      Disease  \n",
       "0             2               0                1            7  \n",
       "1             2               0                0  Common Cold  \n",
       "2             2               0                0       Eczema  \n",
       "3             2               1                1            1  \n",
       "4             2               1                1            1  \n",
       "..          ...             ...              ...          ...  \n",
       "344           0               0                1            2  \n",
       "345           0               1                1            2  \n",
       "346           0               1                1            2  \n",
       "347           0               0                1            2  \n",
       "348           0               0                1            2  \n",
       "\n",
       "[349 rows x 9 columns]"
      ]
     },
     "execution_count": 17,
     "metadata": {},
     "output_type": "execute_result"
    }
   ],
   "source": [
    "disease_df = disease_data[['encoded_Fever', 'encoded_Cough','encoded_Fatigue', 'encoded_DB', 'encoded_BP', 'encoded_CL', 'encoded_Gender', 'encoded_Outcome', 'Disease']].copy()\n",
    "disease_df"
   ]
  },
  {
   "cell_type": "code",
   "execution_count": 18,
   "id": "9e37a2cf-1818-4f71-a050-630739356f3c",
   "metadata": {
    "tags": []
   },
   "outputs": [
    {
     "data": {
      "text/html": [
       "<div>\n",
       "<style scoped>\n",
       "    .dataframe tbody tr th:only-of-type {\n",
       "        vertical-align: middle;\n",
       "    }\n",
       "\n",
       "    .dataframe tbody tr th {\n",
       "        vertical-align: top;\n",
       "    }\n",
       "\n",
       "    .dataframe thead th {\n",
       "        text-align: right;\n",
       "    }\n",
       "</style>\n",
       "<table border=\"1\" class=\"dataframe\">\n",
       "  <thead>\n",
       "    <tr style=\"text-align: right;\">\n",
       "      <th></th>\n",
       "      <th>encoded_Fever</th>\n",
       "      <th>encoded_Cough</th>\n",
       "      <th>encoded_Fatigue</th>\n",
       "      <th>encoded_DB</th>\n",
       "      <th>encoded_BP</th>\n",
       "      <th>encoded_CL</th>\n",
       "      <th>encoded_Gender</th>\n",
       "      <th>encoded_Outcome</th>\n",
       "      <th>Disease</th>\n",
       "    </tr>\n",
       "  </thead>\n",
       "  <tbody>\n",
       "    <tr>\n",
       "      <th>0</th>\n",
       "      <td>1</td>\n",
       "      <td>0</td>\n",
       "      <td>1</td>\n",
       "      <td>1</td>\n",
       "      <td>1</td>\n",
       "      <td>2</td>\n",
       "      <td>0</td>\n",
       "      <td>1</td>\n",
       "      <td>7</td>\n",
       "    </tr>\n",
       "    <tr>\n",
       "      <th>3</th>\n",
       "      <td>1</td>\n",
       "      <td>1</td>\n",
       "      <td>0</td>\n",
       "      <td>1</td>\n",
       "      <td>2</td>\n",
       "      <td>2</td>\n",
       "      <td>1</td>\n",
       "      <td>1</td>\n",
       "      <td>1</td>\n",
       "    </tr>\n",
       "    <tr>\n",
       "      <th>4</th>\n",
       "      <td>1</td>\n",
       "      <td>1</td>\n",
       "      <td>0</td>\n",
       "      <td>1</td>\n",
       "      <td>2</td>\n",
       "      <td>2</td>\n",
       "      <td>1</td>\n",
       "      <td>1</td>\n",
       "      <td>1</td>\n",
       "    </tr>\n",
       "    <tr>\n",
       "      <th>6</th>\n",
       "      <td>1</td>\n",
       "      <td>1</td>\n",
       "      <td>1</td>\n",
       "      <td>1</td>\n",
       "      <td>2</td>\n",
       "      <td>2</td>\n",
       "      <td>0</td>\n",
       "      <td>1</td>\n",
       "      <td>7</td>\n",
       "    </tr>\n",
       "    <tr>\n",
       "      <th>7</th>\n",
       "      <td>1</td>\n",
       "      <td>1</td>\n",
       "      <td>1</td>\n",
       "      <td>1</td>\n",
       "      <td>2</td>\n",
       "      <td>2</td>\n",
       "      <td>0</td>\n",
       "      <td>1</td>\n",
       "      <td>7</td>\n",
       "    </tr>\n",
       "    <tr>\n",
       "      <th>...</th>\n",
       "      <td>...</td>\n",
       "      <td>...</td>\n",
       "      <td>...</td>\n",
       "      <td>...</td>\n",
       "      <td>...</td>\n",
       "      <td>...</td>\n",
       "      <td>...</td>\n",
       "      <td>...</td>\n",
       "      <td>...</td>\n",
       "    </tr>\n",
       "    <tr>\n",
       "      <th>344</th>\n",
       "      <td>1</td>\n",
       "      <td>0</td>\n",
       "      <td>1</td>\n",
       "      <td>0</td>\n",
       "      <td>0</td>\n",
       "      <td>0</td>\n",
       "      <td>0</td>\n",
       "      <td>1</td>\n",
       "      <td>2</td>\n",
       "    </tr>\n",
       "    <tr>\n",
       "      <th>345</th>\n",
       "      <td>1</td>\n",
       "      <td>0</td>\n",
       "      <td>1</td>\n",
       "      <td>0</td>\n",
       "      <td>0</td>\n",
       "      <td>0</td>\n",
       "      <td>1</td>\n",
       "      <td>1</td>\n",
       "      <td>2</td>\n",
       "    </tr>\n",
       "    <tr>\n",
       "      <th>346</th>\n",
       "      <td>1</td>\n",
       "      <td>0</td>\n",
       "      <td>1</td>\n",
       "      <td>0</td>\n",
       "      <td>0</td>\n",
       "      <td>0</td>\n",
       "      <td>1</td>\n",
       "      <td>1</td>\n",
       "      <td>2</td>\n",
       "    </tr>\n",
       "    <tr>\n",
       "      <th>347</th>\n",
       "      <td>1</td>\n",
       "      <td>0</td>\n",
       "      <td>1</td>\n",
       "      <td>0</td>\n",
       "      <td>0</td>\n",
       "      <td>0</td>\n",
       "      <td>0</td>\n",
       "      <td>1</td>\n",
       "      <td>2</td>\n",
       "    </tr>\n",
       "    <tr>\n",
       "      <th>348</th>\n",
       "      <td>1</td>\n",
       "      <td>0</td>\n",
       "      <td>1</td>\n",
       "      <td>0</td>\n",
       "      <td>0</td>\n",
       "      <td>0</td>\n",
       "      <td>0</td>\n",
       "      <td>1</td>\n",
       "      <td>2</td>\n",
       "    </tr>\n",
       "  </tbody>\n",
       "</table>\n",
       "<p>114 rows × 9 columns</p>\n",
       "</div>"
      ],
      "text/plain": [
       "     encoded_Fever  encoded_Cough  encoded_Fatigue  encoded_DB  encoded_BP  \\\n",
       "0                1              0                1           1           1   \n",
       "3                1              1                0           1           2   \n",
       "4                1              1                0           1           2   \n",
       "6                1              1                1           1           2   \n",
       "7                1              1                1           1           2   \n",
       "..             ...            ...              ...         ...         ...   \n",
       "344              1              0                1           0           0   \n",
       "345              1              0                1           0           0   \n",
       "346              1              0                1           0           0   \n",
       "347              1              0                1           0           0   \n",
       "348              1              0                1           0           0   \n",
       "\n",
       "     encoded_CL  encoded_Gender  encoded_Outcome Disease  \n",
       "0             2               0                1       7  \n",
       "3             2               1                1       1  \n",
       "4             2               1                1       1  \n",
       "6             2               0                1       7  \n",
       "7             2               0                1       7  \n",
       "..          ...             ...              ...     ...  \n",
       "344           0               0                1       2  \n",
       "345           0               1                1       2  \n",
       "346           0               1                1       2  \n",
       "347           0               0                1       2  \n",
       "348           0               0                1       2  \n",
       "\n",
       "[114 rows x 9 columns]"
      ]
     },
     "execution_count": 18,
     "metadata": {},
     "output_type": "execute_result"
    }
   ],
   "source": [
    "new_df = disease_df[(disease_df['Disease'] == '1') | (disease_df['Disease'] == '2') | (disease_df['Disease'] == '3')\n",
    "                      | (disease_df['Disease'] == '4') | (disease_df['Disease'] == '5') | (disease_df['Disease'] == '6')\n",
    "                      | (disease_df['Disease'] == '7') | (disease_df['Disease'] == '8') | (disease_df['Disease'] == '9') | (disease_df['Disease'] == '10')]\n",
    "new_df"
   ]
  },
  {
   "cell_type": "code",
   "execution_count": 19,
   "id": "5df7eef5-e3fc-4533-87b3-7abeb6d226bb",
   "metadata": {
    "tags": []
   },
   "outputs": [
    {
     "data": {
      "text/plain": [
       "encoded_Fever      int64\n",
       "encoded_Cough      int64\n",
       "encoded_Fatigue    int64\n",
       "encoded_DB         int64\n",
       "encoded_BP         int64\n",
       "encoded_CL         int64\n",
       "encoded_Gender     int64\n",
       "encoded_Outcome    int64\n",
       "Disease            int64\n",
       "dtype: object"
      ]
     },
     "execution_count": 19,
     "metadata": {},
     "output_type": "execute_result"
    }
   ],
   "source": [
    "new_df = new_df.astype('int64')\n",
    "new_df.dtypes"
   ]
  },
  {
   "cell_type": "code",
   "execution_count": 20,
   "id": "85c027ae-67c5-46de-ae0a-9b11a71ac3eb",
   "metadata": {
    "tags": []
   },
   "outputs": [],
   "source": [
    "X_train = new_df.iloc[:50].drop(columns=['encoded_Outcome'])\n",
    "X_test = new_df.iloc[50:].drop(columns=['encoded_Outcome'])\n",
    "y_train = new_df['encoded_Outcome'].iloc[:50]\n",
    "y_test = new_df['encoded_Outcome'].iloc[50:]"
   ]
  },
  {
   "cell_type": "code",
   "execution_count": 21,
   "id": "00c4bafe-d05e-4581-b24a-4758c0f9eccc",
   "metadata": {
    "tags": []
   },
   "outputs": [
    {
     "data": {
      "text/html": [
       "<style>#sk-container-id-1 {color: black;background-color: white;}#sk-container-id-1 pre{padding: 0;}#sk-container-id-1 div.sk-toggleable {background-color: white;}#sk-container-id-1 label.sk-toggleable__label {cursor: pointer;display: block;width: 100%;margin-bottom: 0;padding: 0.3em;box-sizing: border-box;text-align: center;}#sk-container-id-1 label.sk-toggleable__label-arrow:before {content: \"▸\";float: left;margin-right: 0.25em;color: #696969;}#sk-container-id-1 label.sk-toggleable__label-arrow:hover:before {color: black;}#sk-container-id-1 div.sk-estimator:hover label.sk-toggleable__label-arrow:before {color: black;}#sk-container-id-1 div.sk-toggleable__content {max-height: 0;max-width: 0;overflow: hidden;text-align: left;background-color: #f0f8ff;}#sk-container-id-1 div.sk-toggleable__content pre {margin: 0.2em;color: black;border-radius: 0.25em;background-color: #f0f8ff;}#sk-container-id-1 input.sk-toggleable__control:checked~div.sk-toggleable__content {max-height: 200px;max-width: 100%;overflow: auto;}#sk-container-id-1 input.sk-toggleable__control:checked~label.sk-toggleable__label-arrow:before {content: \"▾\";}#sk-container-id-1 div.sk-estimator input.sk-toggleable__control:checked~label.sk-toggleable__label {background-color: #d4ebff;}#sk-container-id-1 div.sk-label input.sk-toggleable__control:checked~label.sk-toggleable__label {background-color: #d4ebff;}#sk-container-id-1 input.sk-hidden--visually {border: 0;clip: rect(1px 1px 1px 1px);clip: rect(1px, 1px, 1px, 1px);height: 1px;margin: -1px;overflow: hidden;padding: 0;position: absolute;width: 1px;}#sk-container-id-1 div.sk-estimator {font-family: monospace;background-color: #f0f8ff;border: 1px dotted black;border-radius: 0.25em;box-sizing: border-box;margin-bottom: 0.5em;}#sk-container-id-1 div.sk-estimator:hover {background-color: #d4ebff;}#sk-container-id-1 div.sk-parallel-item::after {content: \"\";width: 100%;border-bottom: 1px solid gray;flex-grow: 1;}#sk-container-id-1 div.sk-label:hover label.sk-toggleable__label {background-color: #d4ebff;}#sk-container-id-1 div.sk-serial::before {content: \"\";position: absolute;border-left: 1px solid gray;box-sizing: border-box;top: 0;bottom: 0;left: 50%;z-index: 0;}#sk-container-id-1 div.sk-serial {display: flex;flex-direction: column;align-items: center;background-color: white;padding-right: 0.2em;padding-left: 0.2em;position: relative;}#sk-container-id-1 div.sk-item {position: relative;z-index: 1;}#sk-container-id-1 div.sk-parallel {display: flex;align-items: stretch;justify-content: center;background-color: white;position: relative;}#sk-container-id-1 div.sk-item::before, #sk-container-id-1 div.sk-parallel-item::before {content: \"\";position: absolute;border-left: 1px solid gray;box-sizing: border-box;top: 0;bottom: 0;left: 50%;z-index: -1;}#sk-container-id-1 div.sk-parallel-item {display: flex;flex-direction: column;z-index: 1;position: relative;background-color: white;}#sk-container-id-1 div.sk-parallel-item:first-child::after {align-self: flex-end;width: 50%;}#sk-container-id-1 div.sk-parallel-item:last-child::after {align-self: flex-start;width: 50%;}#sk-container-id-1 div.sk-parallel-item:only-child::after {width: 0;}#sk-container-id-1 div.sk-dashed-wrapped {border: 1px dashed gray;margin: 0 0.4em 0.5em 0.4em;box-sizing: border-box;padding-bottom: 0.4em;background-color: white;}#sk-container-id-1 div.sk-label label {font-family: monospace;font-weight: bold;display: inline-block;line-height: 1.2em;}#sk-container-id-1 div.sk-label-container {text-align: center;}#sk-container-id-1 div.sk-container {/* jupyter's `normalize.less` sets `[hidden] { display: none; }` but bootstrap.min.css set `[hidden] { display: none !important; }` so we also need the `!important` here to be able to override the default hidden behavior on the sphinx rendered scikit-learn.org. See: https://github.com/scikit-learn/scikit-learn/issues/21755 */display: inline-block !important;position: relative;}#sk-container-id-1 div.sk-text-repr-fallback {display: none;}</style><div id=\"sk-container-id-1\" class=\"sk-top-container\"><div class=\"sk-text-repr-fallback\"><pre>LogisticRegression()</pre><b>In a Jupyter environment, please rerun this cell to show the HTML representation or trust the notebook. <br />On GitHub, the HTML representation is unable to render, please try loading this page with nbviewer.org.</b></div><div class=\"sk-container\" hidden><div class=\"sk-item\"><div class=\"sk-estimator sk-toggleable\"><input class=\"sk-toggleable__control sk-hidden--visually\" id=\"sk-estimator-id-1\" type=\"checkbox\" checked><label for=\"sk-estimator-id-1\" class=\"sk-toggleable__label sk-toggleable__label-arrow\">LogisticRegression</label><div class=\"sk-toggleable__content\"><pre>LogisticRegression()</pre></div></div></div></div></div>"
      ],
      "text/plain": [
       "LogisticRegression()"
      ]
     },
     "execution_count": 21,
     "metadata": {},
     "output_type": "execute_result"
    }
   ],
   "source": [
    "from sklearn.linear_model import LogisticRegression\n",
    "\n",
    "disease_lr = LogisticRegression()\n",
    "disease_lr.fit(X_train, y_train)"
   ]
  },
  {
   "cell_type": "code",
   "execution_count": 22,
   "id": "6fbaa55b-b2c3-47fb-9ea7-a3c65399eb83",
   "metadata": {
    "tags": []
   },
   "outputs": [
    {
     "data": {
      "text/plain": [
       "array([1, 1, 1, 1, 1, 0, 0, 1, 0, 1])"
      ]
     },
     "execution_count": 22,
     "metadata": {},
     "output_type": "execute_result"
    }
   ],
   "source": [
    "y_pred_lr = disease_lr.predict(X_train)\n",
    "y_pred_lr[:10]"
   ]
  },
  {
   "cell_type": "code",
   "execution_count": 23,
   "id": "6a054eb5-6992-435f-b06c-ac76a177b750",
   "metadata": {
    "tags": []
   },
   "outputs": [
    {
     "data": {
      "text/plain": [
       "0.84"
      ]
     },
     "execution_count": 23,
     "metadata": {},
     "output_type": "execute_result"
    }
   ],
   "source": [
    "from sklearn.metrics import accuracy_score\n",
    "\n",
    "disease_accuracy = accuracy_score(y_true=y_train, y_pred=y_pred_lr)\n",
    "disease_accuracy"
   ]
  },
  {
   "cell_type": "code",
   "execution_count": 24,
   "id": "142fd934-0130-4816-b2c7-ad0632e12672",
   "metadata": {
    "tags": []
   },
   "outputs": [
    {
     "data": {
      "text/plain": [
       "0.9333333333333333"
      ]
     },
     "execution_count": 24,
     "metadata": {},
     "output_type": "execute_result"
    }
   ],
   "source": [
    "from sklearn.metrics import recall_score\n",
    "\n",
    "disease_recall = recall_score(y_train, y_pred_lr)\n",
    "disease_recall"
   ]
  },
  {
   "cell_type": "code",
   "execution_count": 25,
   "id": "01202225-3af9-46cb-b2ef-51b7a151f864",
   "metadata": {
    "tags": []
   },
   "outputs": [
    {
     "data": {
      "text/plain": [
       "0.8235294117647058"
      ]
     },
     "execution_count": 25,
     "metadata": {},
     "output_type": "execute_result"
    }
   ],
   "source": [
    "from sklearn.metrics import precision_score\n",
    "\n",
    "disease_precision = precision_score(y_train, y_pred_lr)\n",
    "disease_precision"
   ]
  },
  {
   "cell_type": "code",
   "execution_count": 26,
   "id": "2444b009-b25a-41c2-bc86-f42f0a416d2f",
   "metadata": {
    "tags": []
   },
   "outputs": [
    {
     "data": {
      "text/plain": [
       "['disease_lr.keras']"
      ]
     },
     "execution_count": 26,
     "metadata": {},
     "output_type": "execute_result"
    }
   ],
   "source": [
    "import joblib\n",
    "\n",
    "joblib.dump(disease_lr, 'disease_lr.keras')"
   ]
  },
  {
   "cell_type": "code",
   "execution_count": 27,
   "id": "e7699df8-135f-4877-ba95-376f97532fea",
   "metadata": {
    "tags": []
   },
   "outputs": [],
   "source": [
    "import dash\n",
    "from dash import html, dcc, callback, Output, Input\n",
    "import joblib\n",
    "\n",
    "#load Model\n",
    "model = joblib.load('disease_lr.keras')\n",
    "\n",
    "# start Dash app\n",
    "app = dash.Dash(__name__)\n",
    "\n",
    "#Div for Disease\n",
    "input_disease = dcc.Input(\n",
    "    id = 'Disease',\n",
    "    type = 'number',\n",
    "    value = '1'\n",
    ")\n",
    "\n",
    "div_disease = html.Div(\n",
    "    children=[html.H3('Disease(Asthma=1, Stroke=2, Osteoporosis=3, Hypertension=4, Diabetes=5, Migraine=6, Influenza=7, Pneumonia=8, Bronchitis=9, Hyperthyroidism=10'), input_disease],\n",
    "    className = 'four columns'\n",
    ")\n",
    "#Div for Fever\n",
    "input_fever = dcc.Input(\n",
    "    id = 'encoded_Fever',\n",
    "    type = 'number',\n",
    "    value = '1'\n",
    ")\n",
    "\n",
    "div_fever = html.Div(\n",
    "    children=[html.H3('Fever(Yes=1, No=0):'), input_fever],\n",
    "    className = 'four columns'\n",
    ")\n",
    "#Div for Cough\n",
    "cough_values = ['1', '0']\n",
    "cough_options = [{'label': x, 'value': x} for x in cough_values]\n",
    "input_cough = dcc.Input(\n",
    "    id = 'encoded_Cough',\n",
    "    type = 'number',\n",
    "    value = '1'\n",
    ")\n",
    "\n",
    "div_cough = html.Div(\n",
    "    children=[html.H3('Cough(Yes=1, No=0):'), input_cough],\n",
    "    className = 'four columns'\n",
    ")\n",
    "#Div for Fatigue\n",
    "input_fatigue = dcc.Input(\n",
    "    id = 'encoded_Fatigue',\n",
    "    type = 'number',\n",
    "    value = '1'\n",
    ")\n",
    "\n",
    "div_fatigue = html.Div(\n",
    "    children=[html.H3('Fatigue(Yes=1, No=0):'), input_fatigue],\n",
    "    className = 'four columns'\n",
    ")\n",
    "#Div for Difficulty Breathing\n",
    "input_breathing = dcc.Input(\n",
    "    id = 'encoded_DB',\n",
    "    type = 'number',\n",
    "    value = '1'\n",
    ")\n",
    "\n",
    "div_breathing = html.Div(\n",
    "    children=[html.H3('Difficulty Breathing(Yes=1, No=0):'), input_breathing],\n",
    "    className = 'four columns'\n",
    ")\n",
    "#Div for Blood Pressure\n",
    "input_pressure = dcc.Input(\n",
    "    id = 'encoded_BP',\n",
    "    type = 'number',\n",
    "    value = '1'\n",
    ")\n",
    "\n",
    "div_pressure = html.Div(\n",
    "    children=[html.H3('Blood Pressure(Low=0, Normal=1, High=2):'), input_pressure],\n",
    "    className = 'four columns'\n",
    ")\n",
    "#Div for Cholesterol Level\n",
    "input_cholesterol = dcc.Input(\n",
    "    id = 'encoded_CL',\n",
    "    type = 'number',\n",
    "    value = '1'\n",
    ")\n",
    "\n",
    "div_cholesterol = html.Div(\n",
    "    children=[html.H3('Cholesterol Level(Low=0, Normal=1, High=2):'), input_cholesterol],\n",
    "    className = 'four columns'\n",
    ")\n",
    "\n",
    "#Div for Gender\n",
    "input_gender = dcc.Input(\n",
    "    id = 'encoded_Gender',\n",
    "    type = 'number',\n",
    "    value = '0'\n",
    ")\n",
    "\n",
    "div_gender = html.Div(\n",
    "    children=[html.H3('Gender(Male=1, Female=0):'), input_gender],\n",
    "    className = 'four columns'\n",
    ")\n",
    "\n",
    "#Div for categories\n",
    "\n",
    "div_categories = html.Div(\n",
    "    children= [div_disease, div_fever, div_cough, div_fatigue, div_breathing, div_gender, div_pressure, div_cholesterol],\n",
    "    className = 'row'\n",
    ")\n",
    "\n",
    "#app layout\n",
    "app.layout = html.Div([\n",
    "    html.H1('Patient Outcome Predictor'),\n",
    "    html.H2(\"Enter patient's symptoms and diagnosis to get predicted patient outcome.\"),\n",
    "    html.Div(children=[div_categories]), \n",
    "    html.H1(id='encoded_Outcome', \n",
    "            style={'margin-top': '50px', 'text-align': 'center'})])\n"
   ]
  },
  {
   "cell_type": "code",
   "execution_count": 28,
   "id": "8a3de3a7-22b5-4944-b549-f64c03ce526b",
   "metadata": {
    "tags": []
   },
   "outputs": [
    {
     "data": {
      "text/html": [
       "\n",
       "        <iframe\n",
       "            width=\"100%\"\n",
       "            height=\"650\"\n",
       "            src=\"http://127.0.0.1:8050/\"\n",
       "            frameborder=\"0\"\n",
       "            allowfullscreen\n",
       "            \n",
       "        ></iframe>\n",
       "        "
      ],
      "text/plain": [
       "<IPython.lib.display.IFrame at 0x7fe42d625250>"
      ]
     },
     "metadata": {},
     "output_type": "display_data"
    }
   ],
   "source": [
    "predictors = ['Disease', 'encoded_Fever', 'encoded_Cough', 'encoded_Fatigue', 'encoded_DB', 'encoded_Gender', 'encoded_BP','encoded_CL']\n",
    "\n",
    "\n",
    "@app.callback(Output('encoded_Outcome', 'children'),\n",
    "              [Input(x, 'value') for x in predictors])\n",
    "\n",
    "def prediction(Disease, Fever, Cough, Fatigue, Difficulty_Breathing, Gender, Blood_Pressure, Cholesterol_Level):\n",
    "    Disease = int(Disease)\n",
    "    Fever = int(Fever)\n",
    "    Cough = int(Cough)\n",
    "    Fatigue = int(Fatigue)\n",
    "    Difficulty_Breathing = int(Difficulty_Breathing)\n",
    "    Gender = int(Gender)\n",
    "    Blood_Pressure = int(Blood_Pressure)\n",
    "    Cholesterol_Level = int(Cholesterol_Level)\n",
    "    \n",
    "    predict = model.predict([predictors])\n",
    "    \n",
    "    return f\"Patient outcome is: {predict}\"\n",
    "\n",
    "if __name__ == '__main__':\n",
    "    app.run_server(debug=True)"
   ]
  },
  {
   "cell_type": "code",
   "execution_count": null,
   "id": "d8649c5c-a663-49b5-8436-2a4d8618c7db",
   "metadata": {},
   "outputs": [],
   "source": []
  }
 ],
 "metadata": {
  "kernelspec": {
   "display_name": "Python 3 (ipykernel)",
   "language": "python",
   "name": "python3"
  },
  "language_info": {
   "codemirror_mode": {
    "name": "ipython",
    "version": 3
   },
   "file_extension": ".py",
   "mimetype": "text/x-python",
   "name": "python",
   "nbconvert_exporter": "python",
   "pygments_lexer": "ipython3",
   "version": "3.11.3"
  }
 },
 "nbformat": 4,
 "nbformat_minor": 5
}
